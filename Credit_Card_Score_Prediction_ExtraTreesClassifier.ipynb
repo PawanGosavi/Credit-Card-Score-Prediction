{
  "metadata": {
    "kernelspec": {
      "language": "python",
      "display_name": "Python 3",
      "name": "python3"
    },
    "language_info": {
      "name": "python",
      "version": "3.7.10",
      "mimetype": "text/x-python",
      "codemirror_mode": {
        "name": "ipython",
        "version": 3
      },
      "pygments_lexer": "ipython3",
      "nbconvert_exporter": "python",
      "file_extension": ".py"
    },
    "colab": {
      "provenance": []
    }
  },
  "nbformat_minor": 0,
  "nbformat": 4,
  "cells": [
    {
      "cell_type": "code",
      "source": [
        "import pandas as pd\n",
        "import numpy as np\n",
        " \n",
        "from sklearn.preprocessing import LabelEncoder\n",
        "from sklearn import model_selection\n",
        "from sklearn.model_selection import GridSearchCV\n",
        "from sklearn.model_selection import RandomizedSearchCV\n",
        " \n",
        "from sklearn.ensemble import ExtraTreesClassifier,RandomForestClassifier\n",
        "from sklearn.tree import DecisionTreeClassifier\n",
        "from sklearn import svm\n",
        " \n",
        "from sklearn import metrics"
      ],
      "metadata": {
        "id": "_JNBg_oJcwJl",
        "execution": {
          "iopub.status.busy": "2021-05-29T07:34:54.519909Z",
          "iopub.execute_input": "2021-05-29T07:34:54.520345Z",
          "iopub.status.idle": "2021-05-29T07:34:55.552730Z",
          "shell.execute_reply.started": "2021-05-29T07:34:54.520312Z",
          "shell.execute_reply": "2021-05-29T07:34:55.551822Z"
        },
        "trusted": true
      },
      "execution_count": null,
      "outputs": []
    },
    {
      "cell_type": "code",
      "source": [
        "from google.colab import drive\n",
        " \n",
        "drive.mount('/content/gdrive')"
      ],
      "metadata": {
        "id": "_98zYu4iSWoY"
      },
      "execution_count": null,
      "outputs": []
    },
    {
      "cell_type": "markdown",
      "source": [
        "## loading the data"
      ],
      "metadata": {
        "id": "ElFLKYQz_miK"
      }
    },
    {
      "cell_type": "code",
      "source": [
        "# data=pd.read_csv(\"/content/gdrive/MyDrive/Untitled form (File responses)/train_s3TEQDk.csv\")\n",
        "# data.head()\n",
        "# train=pd.read_csv(\"/content/gdrive/MyDrive/Untitled form (File responses)/train_s3TEQDk.csv\")\n",
        "\n",
        "# test =  pd.read_csv('../input/jobathon-may-2021-credit-card-lead-prediction/test.csv')\n",
        "data = pd.read_csv( '../input/jobathon-may-2021-credit-card-lead-prediction/train.csv')"
      ],
      "metadata": {
        "id": "y5jwAdr8i_my",
        "execution": {
          "iopub.status.busy": "2021-05-29T07:35:24.097779Z",
          "iopub.execute_input": "2021-05-29T07:35:24.098329Z",
          "iopub.status.idle": "2021-05-29T07:35:24.450399Z",
          "shell.execute_reply.started": "2021-05-29T07:35:24.098283Z",
          "shell.execute_reply": "2021-05-29T07:35:24.449556Z"
        },
        "trusted": true
      },
      "execution_count": null,
      "outputs": []
    },
    {
      "cell_type": "code",
      "source": [
        "data.info()"
      ],
      "metadata": {
        "id": "5UayJZJHsF_F",
        "outputId": "51401e4f-a5cc-4a20-994a-6d13f9308233",
        "execution": {
          "iopub.status.busy": "2021-05-29T07:35:28.740923Z",
          "iopub.execute_input": "2021-05-29T07:35:28.741477Z",
          "iopub.status.idle": "2021-05-29T07:35:28.917939Z",
          "shell.execute_reply.started": "2021-05-29T07:35:28.741434Z",
          "shell.execute_reply": "2021-05-29T07:35:28.916908Z"
        },
        "trusted": true
      },
      "execution_count": null,
      "outputs": [
        {
          "name": "stdout",
          "text": "<class 'pandas.core.frame.DataFrame'>\nRangeIndex: 245725 entries, 0 to 245724\nData columns (total 11 columns):\n #   Column               Non-Null Count   Dtype \n---  ------               --------------   ----- \n 0   ID                   245725 non-null  object\n 1   Gender               245725 non-null  object\n 2   Age                  245725 non-null  int64 \n 3   Region_Code          245725 non-null  object\n 4   Occupation           245725 non-null  object\n 5   Channel_Code         245725 non-null  object\n 6   Vintage              245725 non-null  int64 \n 7   Credit_Product       216400 non-null  object\n 8   Avg_Account_Balance  245725 non-null  int64 \n 9   Is_Active            245725 non-null  object\n 10  Is_Lead              245725 non-null  int64 \ndtypes: int64(4), object(7)\nmemory usage: 20.6+ MB\n",
          "output_type": "stream"
        }
      ]
    },
    {
      "cell_type": "markdown",
      "source": [
        "## checking its data types"
      ],
      "metadata": {
        "id": "8XTcL3mC_y9D"
      }
    },
    {
      "cell_type": "code",
      "source": [
        "data.dtypes"
      ],
      "metadata": {
        "id": "QpQ_hsHNju--",
        "outputId": "9f35392e-8586-4e3c-e723-db48e6071d8a",
        "execution": {
          "iopub.status.busy": "2021-05-29T07:35:33.426076Z",
          "iopub.execute_input": "2021-05-29T07:35:33.426476Z",
          "iopub.status.idle": "2021-05-29T07:35:33.435280Z",
          "shell.execute_reply.started": "2021-05-29T07:35:33.426434Z",
          "shell.execute_reply": "2021-05-29T07:35:33.434435Z"
        },
        "trusted": true
      },
      "execution_count": null,
      "outputs": [
        {
          "execution_count": 6,
          "output_type": "execute_result",
          "data": {
            "text/plain": "ID                     object\nGender                 object\nAge                     int64\nRegion_Code            object\nOccupation             object\nChannel_Code           object\nVintage                 int64\nCredit_Product         object\nAvg_Account_Balance     int64\nIs_Active              object\nIs_Lead                 int64\ndtype: object"
          },
          "metadata": {}
        }
      ]
    },
    {
      "cell_type": "markdown",
      "source": [
        "## here labelencoder is used to transform non-numerical labels to numerical labels."
      ],
      "metadata": {
        "id": "3ywYOMHb_-uX"
      }
    },
    {
      "cell_type": "code",
      "source": [
        "train['Credit_Product']=train['Credit_Product'].astype(str)\n",
        "train.info()"
      ],
      "metadata": {
        "id": "6uku-z8kUFKl",
        "outputId": "d4cede85-df48-4c85-dc9d-d42bb713cea7",
        "execution": {
          "iopub.status.busy": "2021-05-29T07:35:37.989483Z",
          "iopub.execute_input": "2021-05-29T07:35:37.989936Z",
          "iopub.status.idle": "2021-05-29T07:35:38.171943Z",
          "shell.execute_reply.started": "2021-05-29T07:35:37.989908Z",
          "shell.execute_reply": "2021-05-29T07:35:38.171304Z"
        },
        "trusted": true
      },
      "execution_count": null,
      "outputs": [
        {
          "name": "stdout",
          "text": "<class 'pandas.core.frame.DataFrame'>\nRangeIndex: 245725 entries, 0 to 245724\nData columns (total 11 columns):\n #   Column               Non-Null Count   Dtype \n---  ------               --------------   ----- \n 0   ID                   245725 non-null  object\n 1   Gender               245725 non-null  object\n 2   Age                  245725 non-null  int64 \n 3   Region_Code          245725 non-null  object\n 4   Occupation           245725 non-null  object\n 5   Channel_Code         245725 non-null  object\n 6   Vintage              245725 non-null  int64 \n 7   Credit_Product       245725 non-null  object\n 8   Avg_Account_Balance  245725 non-null  int64 \n 9   Is_Active            245725 non-null  object\n 10  Is_Lead              245725 non-null  int64 \ndtypes: int64(4), object(7)\nmemory usage: 20.6+ MB\n",
          "output_type": "stream"
        }
      ]
    },
    {
      "cell_type": "code",
      "source": [
        "# df=data.copy()\n",
        "# lab=LabelEncoder()\n",
        "# df[\"Gender\"]=lab.fit_transform(data[\"Gender\"])\n",
        "# df[\"Occupation\"]=lab.fit_transform(data[\"Occupation\"])\n",
        "# df[\"Credit_Product\"]=lab.fit_transform(data[\"Credit_Product\"])\n",
        "# df[\"Is_Active\"]=lab.fit_transform(data[\"Is_Active\"])\n",
        "# df[\"Channel_Code\"]=lab.fit_transform(data[\"Channel_Code\"])\n",
        "\n",
        "# df.head()"
      ],
      "metadata": {
        "id": "6jtKcTuFlluu"
      },
      "execution_count": null,
      "outputs": []
    },
    {
      "cell_type": "code",
      "source": [
        "# label encoding the data\n",
        "from sklearn.preprocessing import LabelEncoder\n",
        " \n",
        "le = LabelEncoder()\n",
        " \n",
        "train['Gender']= le.fit_transform(train['Gender'])\n",
        "train['Occupation']= le.fit_transform(train['Occupation'])\n",
        "train['Credit_Product']= le.fit_transform(train['Credit_Product'])\n",
        "train['Vintage']= le.fit_transform(train['Vintage'])\n",
        "train['Region_Code']= le.fit_transform(train['Region_Code'])\n",
        "train['Channel_Code']= le.fit_transform(train['Channel_Code'])\n",
        "train['Age']= le.fit_transform(train['Age'])\n",
        "train['Is_Lead']= le.fit_transform(train['Is_Lead'])\n",
        "train['Is_Active']= le.fit_transform(train['Is_Active'])\n",
        "train['ID']= le.fit_transform(train['ID'])"
      ],
      "metadata": {
        "id": "bu8yQymXTpDg",
        "execution": {
          "iopub.status.busy": "2021-05-29T07:35:44.390275Z",
          "iopub.execute_input": "2021-05-29T07:35:44.390774Z",
          "iopub.status.idle": "2021-05-29T07:35:45.969009Z",
          "shell.execute_reply.started": "2021-05-29T07:35:44.390743Z",
          "shell.execute_reply": "2021-05-29T07:35:45.968239Z"
        },
        "trusted": true
      },
      "execution_count": null,
      "outputs": []
    },
    {
      "cell_type": "code",
      "source": [
        "target=train.iloc[:,10:]\n",
        "input=train.iloc[:,0:10]\n",
        "target,input"
      ],
      "metadata": {
        "id": "Py_orWeQr2Xj",
        "outputId": "2ca5232a-339f-4614-c5ea-8b2ebba79d06",
        "execution": {
          "iopub.status.busy": "2021-05-29T07:35:50.204523Z",
          "iopub.execute_input": "2021-05-29T07:35:50.205065Z",
          "iopub.status.idle": "2021-05-29T07:35:50.236282Z",
          "shell.execute_reply.started": "2021-05-29T07:35:50.205034Z",
          "shell.execute_reply": "2021-05-29T07:35:50.235545Z"
        },
        "trusted": true
      },
      "execution_count": null,
      "outputs": [
        {
          "execution_count": 9,
          "output_type": "execute_result",
          "data": {
            "text/plain": "(        Is_Lead\n 0             0\n 1             0\n 2             0\n 3             0\n 4             0\n ...         ...\n 245720        0\n 245721        0\n 245722        0\n 245723        0\n 245724        0\n \n [245725 rows x 1 columns],\n             ID  Gender  Age  Region_Code  Occupation  Channel_Code  Vintage  \\\n 0       179194       0   50           18           1             2       18   \n 1       131013       0    7           27           2             0       13   \n 2       121520       0   33           18           3             2       10   \n 3        57273       1   11           20           2             0        6   \n 4       209602       0    7           32           2             0       14   \n ...        ...     ...  ...          ...         ...           ...      ...   \n 245720   60529       1   28           34           3             2       51   \n 245721  122463       1    4           18           2             0        5   \n 245722  111270       0    3           31           2             0        3   \n 245723  111156       0    5           23           2             0       12   \n 245724   60342       1    6           19           2             0        8   \n \n         Credit_Product  Avg_Account_Balance  Is_Active  \n 0                    0              1045696          0  \n 1                    0               581988          0  \n 2                    0              1484315          1  \n 3                    0               470454          0  \n 4                    0               886787          0  \n ...                ...                  ...        ...  \n 245720               2              1925586          0  \n 245721               0               862952          1  \n 245722               0               670659          0  \n 245723               0               407504          0  \n 245724               0              1129276          0  \n \n [245725 rows x 10 columns])"
          },
          "metadata": {}
        }
      ]
    },
    {
      "cell_type": "code",
      "source": [
        "import matplotlib.pyplot as plt\n",
        "import numpy as np\n",
        "import pandas as pd\n",
        "import seaborn as sns\n",
        "import warnings\n",
        "from imblearn.over_sampling import SMOTE\n",
        "from imblearn.pipeline import make_pipeline\n",
        "from pylab import rcParams\n",
        "from sklearn.linear_model import LogisticRegression\n",
        "from sklearn.metrics import accuracy_score\n",
        "from sklearn.metrics import precision_score, recall_score, confusion_matrix\n",
        "from sklearn.metrics import f1_score, roc_auc_score, roc_curve\n",
        "from sklearn.model_selection import train_test_split\n",
        "from sklearn.model_selection import GridSearchCV"
      ],
      "metadata": {
        "id": "qxFcyWSV6EU_",
        "execution": {
          "iopub.status.busy": "2021-05-29T07:35:54.651571Z",
          "iopub.execute_input": "2021-05-29T07:35:54.652042Z",
          "iopub.status.idle": "2021-05-29T07:35:54.870730Z",
          "shell.execute_reply.started": "2021-05-29T07:35:54.652013Z",
          "shell.execute_reply": "2021-05-29T07:35:54.869903Z"
        },
        "trusted": true
      },
      "execution_count": null,
      "outputs": []
    },
    {
      "cell_type": "code",
      "source": [
        "%matplotlib inline\n",
        "np.random.seed(27)\n",
        "rcParams['figure.figsize'] = 10, 6\n",
        "warnings.filterwarnings('ignore')\n",
        "sns.set(style=\"darkgrid\")"
      ],
      "metadata": {
        "id": "50OBL5Xp6EaI",
        "execution": {
          "iopub.status.busy": "2021-05-29T07:35:58.347960Z",
          "iopub.execute_input": "2021-05-29T07:35:58.348488Z",
          "iopub.status.idle": "2021-05-29T07:35:58.356017Z",
          "shell.execute_reply.started": "2021-05-29T07:35:58.348448Z",
          "shell.execute_reply": "2021-05-29T07:35:58.355098Z"
        },
        "trusted": true
      },
      "execution_count": null,
      "outputs": []
    },
    {
      "cell_type": "code",
      "source": [
        "def generate_model_report(y_actual, y_predicted):\n",
        "    print(\"Accuracy = \" , accuracy_score(y_actual, y_predicted))\n",
        "    print(\"Precision = \" ,precision_score(y_actual, y_predicted))\n",
        "    print(\"Recall = \" ,recall_score(y_actual, y_predicted))\n",
        "    print(\"F1 Score = \" ,f1_score(y_actual, y_predicted))\n",
        "    pass"
      ],
      "metadata": {
        "id": "wXGml8Ar6EhY",
        "execution": {
          "iopub.status.busy": "2021-05-29T07:36:00.563411Z",
          "iopub.execute_input": "2021-05-29T07:36:00.563756Z",
          "iopub.status.idle": "2021-05-29T07:36:00.568639Z",
          "shell.execute_reply.started": "2021-05-29T07:36:00.563728Z",
          "shell.execute_reply": "2021-05-29T07:36:00.567559Z"
        },
        "trusted": true
      },
      "execution_count": null,
      "outputs": []
    },
    {
      "cell_type": "code",
      "source": [
        "def generate_auc_roc_curve(clf, X_test):\n",
        "    y_pred_proba = clf.predict_proba(X_test)[:, 1]\n",
        "    fpr, tpr, thresholds = roc_curve(Y_test,  y_pred_proba)\n",
        "    auc = roc_auc_score(Y_test, y_pred_proba)\n",
        "    plt.plot(fpr,tpr,label=\"AUC ROC Curve with Area Under the curve =\"+str(auc))\n",
        "    plt.legend(loc=4)\n",
        "    plt.show()\n",
        "    pass"
      ],
      "metadata": {
        "id": "5W5BoyJI6Emk",
        "execution": {
          "iopub.status.busy": "2021-05-29T07:36:03.698486Z",
          "iopub.execute_input": "2021-05-29T07:36:03.698846Z",
          "iopub.status.idle": "2021-05-29T07:36:03.705212Z",
          "shell.execute_reply.started": "2021-05-29T07:36:03.698818Z",
          "shell.execute_reply": "2021-05-29T07:36:03.704488Z"
        },
        "trusted": true
      },
      "execution_count": null,
      "outputs": []
    },
    {
      "cell_type": "code",
      "source": [
        "target = 'Is_Lead'\n",
        "df1=train.copy()\n",
        "X = df1.loc[:, df1.columns!=target]\n",
        "Y = df1.loc[:, df1.columns==target]\n",
        "X_train, X_test, Y_train, Y_test = train_test_split(X, Y, \n",
        "                                                    test_size=0.33, \n",
        "                                                    random_state=42)\n",
        "ax = sns.countplot(x=df1.Is_Lead, data=df1)\n",
        "print(df1[target].value_counts())"
      ],
      "metadata": {
        "id": "P7pmhsHW6ErY",
        "outputId": "091147fb-56be-49a9-e1ef-2e962691cab4",
        "execution": {
          "iopub.status.busy": "2021-05-29T07:53:16.764513Z",
          "iopub.execute_input": "2021-05-29T07:53:16.764878Z",
          "iopub.status.idle": "2021-05-29T07:53:17.043524Z",
          "shell.execute_reply.started": "2021-05-29T07:53:16.764845Z",
          "shell.execute_reply": "2021-05-29T07:53:17.042484Z"
        },
        "trusted": true
      },
      "execution_count": null,
      "outputs": [
        {
          "name": "stdout",
          "text": "0    187437\n1     58288\nName: Is_Lead, dtype: int64\n",
          "output_type": "stream"
        },
        {
          "output_type": "display_data",
          "data": {
            "text/plain": "<Figure size 720x432 with 1 Axes>",
            "image/png": "[encoded data removed]"
          },
          "metadata": {}
        }
      ]
    },
    {
      "cell_type": "markdown",
      "source": [
        "## at first i used xgboost\n"
      ],
      "metadata": {
        "id": "K42DRP1-_XqQ"
      }
    },
    {
      "cell_type": "code",
      "source": [
        "import xgboost as xg\n",
        "from xgboost import XGBClassifier\n",
        " \n",
        "clf2 = xg.XGBClassifier(class_weight='balanced').fit(X_train, Y_train)"
      ],
      "metadata": {
        "id": "hoNGmesv6Fko",
        "execution": {
          "iopub.status.busy": "2021-05-29T07:36:25.483430Z",
          "iopub.execute_input": "2021-05-29T07:36:25.483788Z",
          "iopub.status.idle": "2021-05-29T07:36:35.481362Z",
          "shell.execute_reply.started": "2021-05-29T07:36:25.483757Z",
          "shell.execute_reply": "2021-05-29T07:36:35.480419Z"
        },
        "trusted": true,
        "outputId": "042d3f71-a3c5-4fc7-dd3d-d4fd535b005d"
      },
      "execution_count": null,
      "outputs": [
        {
          "name": "stdout",
          "text": "[07:36:25] WARNING: ../src/learner.cc:573: \nParameters: { \"class_weight\" } might not be used.\n\n  This may not be accurate due to some parameters are only used in language bindings but\n  passed down to XGBoost core.  Or some parameters are not used but slip through this\n  verification. Please open an issue if you find above cases.\n\n\n[07:36:25] WARNING: ../src/learner.cc:1095: Starting in XGBoost 1.3.0, the default evaluation metric used with the objective 'binary:logistic' was changed from 'error' to 'logloss'. Explicitly set eval_metric if you'd like to restore the old behavior.\n",
          "output_type": "stream"
        }
      ]
    },
    {
      "cell_type": "code",
      "source": [
        "clf2 = xg.XGBClassifier(class_weight='balanced').fit(X_train, Y_train)"
      ],
      "metadata": {
        "id": "SrifRAWQxBjK",
        "execution": {
          "iopub.status.busy": "2021-05-29T07:36:35.482610Z",
          "iopub.execute_input": "2021-05-29T07:36:35.482867Z",
          "iopub.status.idle": "2021-05-29T07:36:45.662697Z",
          "shell.execute_reply.started": "2021-05-29T07:36:35.482841Z",
          "shell.execute_reply": "2021-05-29T07:36:45.661513Z"
        },
        "trusted": true,
        "outputId": "297dcabd-6a9c-49ae-90df-8cbb24b05083"
      },
      "execution_count": null,
      "outputs": [
        {
          "name": "stdout",
          "text": "[07:36:35] WARNING: ../src/learner.cc:573: \nParameters: { \"class_weight\" } might not be used.\n\n  This may not be accurate due to some parameters are only used in language bindings but\n  passed down to XGBoost core.  Or some parameters are not used but slip through this\n  verification. Please open an issue if you find above cases.\n\n\n[07:36:35] WARNING: ../src/learner.cc:1095: Starting in XGBoost 1.3.0, the default evaluation metric used with the objective 'binary:logistic' was changed from 'error' to 'logloss'. Explicitly set eval_metric if you'd like to restore the old behavior.\n",
          "output_type": "stream"
        }
      ]
    },
    {
      "cell_type": "code",
      "source": [
        "from sklearn.utils import class_weight\n",
        "class_weight.compute_class_weight('balanced', np.unique(Y_train), Y_train[target])"
      ],
      "metadata": {
        "id": "d2EtMSB86Fo2",
        "outputId": "56efcc5e-e3a7-48d4-93f0-5d9f8cebb02a",
        "execution": {
          "iopub.status.busy": "2021-05-29T07:36:45.664149Z",
          "iopub.execute_input": "2021-05-29T07:36:45.664410Z",
          "iopub.status.idle": "2021-05-29T07:36:45.712607Z",
          "shell.execute_reply.started": "2021-05-29T07:36:45.664385Z",
          "shell.execute_reply": "2021-05-29T07:36:45.711674Z"
        },
        "trusted": true
      },
      "execution_count": null,
      "outputs": [
        {
          "execution_count": 18,
          "output_type": "execute_result",
          "data": {
            "text/plain": "array([0.65555069, 2.10719314])"
          },
          "metadata": {}
        }
      ]
    },
    {
      "cell_type": "code",
      "source": [
        " \n",
        "Y_Test_Pred = clf2.predict(X_test)"
      ],
      "metadata": {
        "id": "uT8Sgrka6Fv0",
        "execution": {
          "iopub.status.busy": "2021-05-29T07:36:48.066023Z",
          "iopub.execute_input": "2021-05-29T07:36:48.066389Z",
          "iopub.status.idle": "2021-05-29T07:36:48.154214Z",
          "shell.execute_reply.started": "2021-05-29T07:36:48.066358Z",
          "shell.execute_reply": "2021-05-29T07:36:48.153380Z"
        },
        "trusted": true
      },
      "execution_count": null,
      "outputs": []
    },
    {
      "cell_type": "markdown",
      "source": [],
      "metadata": {
        "id": "FQPwkHw2DpxY"
      }
    },
    {
      "cell_type": "code",
      "source": [
        "generate_model_report(Y_test, Y_Test_Pred)"
      ],
      "metadata": {
        "id": "KE-WAvjF6F0X",
        "outputId": "69b7676f-f8d8-4e1b-f278-3e6b3a0d9a77",
        "execution": {
          "iopub.status.busy": "2021-05-29T07:36:51.770680Z",
          "iopub.execute_input": "2021-05-29T07:36:51.771028Z",
          "iopub.status.idle": "2021-05-29T07:36:51.859527Z",
          "shell.execute_reply.started": "2021-05-29T07:36:51.770984Z",
          "shell.execute_reply": "2021-05-29T07:36:51.858479Z"
        },
        "trusted": true
      },
      "execution_count": null,
      "outputs": [
        {
          "name": "stdout",
          "text": "Accuracy =  0.8587988654581329\nPrecision =  0.7877396905308358\nRecall =  0.5535036154606461\nF1 Score =  0.6501680415520928\n",
          "output_type": "stream"
        }
      ]
    },
    {
      "cell_type": "markdown",
      "source": [
        "## ROC SCORE WAS 0.87"
      ],
      "metadata": {
        "id": "E5hoQXwg_ggd"
      }
    },
    {
      "cell_type": "code",
      "source": [
        "generate_auc_roc_curve(clf2, X_test)"
      ],
      "metadata": {
        "id": "GmeqQcMg6F4j",
        "outputId": "5309cb90-1f4e-4ef9-a61c-bab53daac9d0",
        "execution": {
          "iopub.status.busy": "2021-05-29T07:36:57.429818Z",
          "iopub.execute_input": "2021-05-29T07:36:57.430188Z",
          "iopub.status.idle": "2021-05-29T07:36:57.739496Z",
          "shell.execute_reply.started": "2021-05-29T07:36:57.430160Z",
          "shell.execute_reply": "2021-05-29T07:36:57.738812Z"
        },
        "trusted": true
      },
      "execution_count": null,
      "outputs": [
        {
          "output_type": "display_data",
          "data": {
            "text/plain": "<Figure size 720x432 with 1 Axes>",
            "image/png": "[encoded data removed]"
          },
          "metadata": {}
        }
      ]
    },
    {
      "cell_type": "code",
      "source": [
        "from joblib import dump, load\n",
        "dump(clf2, 'extra1.joblib')"
      ],
      "metadata": {
        "id": "kh4wx4BEF4VH",
        "outputId": "fe980414-1a6f-4779-fe57-e73849fc7fd7",
        "execution": {
          "iopub.status.busy": "2021-05-29T07:37:42.732590Z",
          "iopub.execute_input": "2021-05-29T07:37:42.732939Z",
          "iopub.status.idle": "2021-05-29T07:37:42.762337Z",
          "shell.execute_reply.started": "2021-05-29T07:37:42.732909Z",
          "shell.execute_reply": "2021-05-29T07:37:42.761433Z"
        },
        "trusted": true
      },
      "execution_count": null,
      "outputs": [
        {
          "execution_count": 24,
          "output_type": "execute_result",
          "data": {
            "text/plain": "['extra1.joblib']"
          },
          "metadata": {}
        }
      ]
    },
    {
      "cell_type": "code",
      "source": [
        "# test=pd.read_csv(\"/content/gdrive/MyDrive/Untitled form (File responses)/test_mSzZ8RL.csv\")\n",
        "test =  pd.read_csv('../input/jobathon-may-2021-credit-card-lead-prediction/test.csv')\n",
        "# train = pd.read_csv( '../input/jobathon-may-2021-credit-card-lead-prediction/train.csv')\n",
        " \n",
        "test['Credit_Product']=test['Credit_Product'].astype(str)\n",
        "df=test.copy()\n",
        "lab=LabelEncoder()\n",
        "df[\"Gender\"]=lab.fit_transform(test[\"Gender\"])\n",
        "df[\"Occupation\"]=lab.fit_transform(test[\"Occupation\"])\n",
        "df[\"Credit_Product\"]=lab.fit_transform(test[\"Credit_Product\"])\n",
        "df[\"Is_Active\"]=lab.fit_transform(test[\"Is_Active\"])\n",
        "df[\"Channel_Code\"]=lab.fit_transform(test[\"Channel_Code\"])\n",
        "df[\"ID\"]=lab.fit_transform(test[\"ID\"])\n",
        "df[\"Age\"]=lab.fit_transform(test[\"Age\"])\n",
        "df[\"Region_Code\"]=lab.fit_transform(test[\"Region_Code\"])\n",
        "df[\"Vintage\"]=lab.fit_transform(test[\"Vintage\"])\n",
        "df[\"Avg_Account_Balance\"]=lab.fit_transform(test[\"Avg_Account_Balance\"])\n",
        "df.head()\n",
        "# target1=df.iloc[:,10:]\n",
        "input1=df[0:]\n",
        "input1"
      ],
      "metadata": {
        "id": "emB-dsxvHrCQ",
        "outputId": "e2d96677-611a-4067-b809-7fac2ec2bb0d",
        "execution": {
          "iopub.status.busy": "2021-05-29T07:37:23.792920Z",
          "iopub.execute_input": "2021-05-29T07:37:23.793549Z",
          "iopub.status.idle": "2021-05-29T07:37:24.567446Z",
          "shell.execute_reply.started": "2021-05-29T07:37:23.793513Z",
          "shell.execute_reply": "2021-05-29T07:37:24.566276Z"
        },
        "trusted": true
      },
      "execution_count": null,
      "outputs": [
        {
          "execution_count": 22,
          "output_type": "execute_result",
          "data": {
            "text/plain": "           ID  Gender  Age  Region_Code  Occupation  Channel_Code  Vintage  \\\n0       94233       1    5            4           1             0        9   \n1       28747       1   19           18           1             1       21   \n2       94883       1    7           20           2             0        4   \n3       90941       1    5           22           1             0       14   \n4       87803       0    5           20           1             0        6   \n...       ...     ...  ...          ...         ...           ...      ...   \n105307  33196       1   28           18           2             1       40   \n105308  31821       1   31           27           1             1       40   \n105309  52132       1   11            4           2             3        5   \n105310   1477       1   29            4           1             2       44   \n105311  41693       1    3            6           2             0        8   \n\n        Credit_Product  Avg_Account_Balance  Is_Active  \n0                    1                27635          0  \n1                    2                37999          0  \n2                    0                  732          0  \n3                    0                34903          0  \n4                    0                22312          0  \n...                ...                  ...        ...  \n105307               1                77048          1  \n105308               1                48831          0  \n105309               0                63962          0  \n105310               0                27329          1  \n105311               0                18118          0  \n\n[105312 rows x 10 columns]",
            "text/html": "<div>\n<style scoped>\n    .dataframe tbody tr th:only-of-type {\n        vertical-align: middle;\n    }\n\n    .dataframe tbody tr th {\n        vertical-align: top;\n    }\n\n    .dataframe thead th {\n        text-align: right;\n    }\n</style>\n<table border=\"1\" class=\"dataframe\">\n  <thead>\n    <tr style=\"text-align: right;\">\n      <th></th>\n      <th>ID</th>\n      <th>Gender</th>\n      <th>Age</th>\n      <th>Region_Code</th>\n      <th>Occupation</th>\n      <th>Channel_Code</th>\n      <th>Vintage</th>\n      <th>Credit_Product</th>\n      <th>Avg_Account_Balance</th>\n      <th>Is_Active</th>\n    </tr>\n  </thead>\n  <tbody>\n    <tr>\n      <th>0</th>\n      <td>94233</td>\n      <td>1</td>\n      <td>5</td>\n      <td>4</td>\n      <td>1</td>\n      <td>0</td>\n      <td>9</td>\n      <td>1</td>\n      <td>27635</td>\n      <td>0</td>\n    </tr>\n    <tr>\n      <th>1</th>\n      <td>28747</td>\n      <td>1</td>\n      <td>19</td>\n      <td>18</td>\n      <td>1</td>\n      <td>1</td>\n      <td>21</td>\n      <td>2</td>\n      <td>37999</td>\n      <td>0</td>\n    </tr>\n    <tr>\n      <th>2</th>\n      <td>94883</td>\n      <td>1</td>\n      <td>7</td>\n      <td>20</td>\n      <td>2</td>\n      <td>0</td>\n      <td>4</td>\n      <td>0</td>\n      <td>732</td>\n      <td>0</td>\n    </tr>\n    <tr>\n      <th>3</th>\n      <td>90941</td>\n      <td>1</td>\n      <td>5</td>\n      <td>22</td>\n      <td>1</td>\n      <td>0</td>\n      <td>14</td>\n      <td>0</td>\n      <td>34903</td>\n      <td>0</td>\n    </tr>\n    <tr>\n      <th>4</th>\n      <td>87803</td>\n      <td>0</td>\n      <td>5</td>\n      <td>20</td>\n      <td>1</td>\n      <td>0</td>\n      <td>6</td>\n      <td>0</td>\n      <td>22312</td>\n      <td>0</td>\n    </tr>\n    <tr>\n      <th>...</th>\n      <td>...</td>\n      <td>...</td>\n      <td>...</td>\n      <td>...</td>\n      <td>...</td>\n      <td>...</td>\n      <td>...</td>\n      <td>...</td>\n      <td>...</td>\n      <td>...</td>\n    </tr>\n    <tr>\n      <th>105307</th>\n      <td>33196</td>\n      <td>1</td>\n      <td>28</td>\n      <td>18</td>\n      <td>2</td>\n      <td>1</td>\n      <td>40</td>\n      <td>1</td>\n      <td>77048</td>\n      <td>1</td>\n    </tr>\n    <tr>\n      <th>105308</th>\n      <td>31821</td>\n      <td>1</td>\n      <td>31</td>\n      <td>27</td>\n      <td>1</td>\n      <td>1</td>\n      <td>40</td>\n      <td>1</td>\n      <td>48831</td>\n      <td>0</td>\n    </tr>\n    <tr>\n      <th>105309</th>\n      <td>52132</td>\n      <td>1</td>\n      <td>11</td>\n      <td>4</td>\n      <td>2</td>\n      <td>3</td>\n      <td>5</td>\n      <td>0</td>\n      <td>63962</td>\n      <td>0</td>\n    </tr>\n    <tr>\n      <th>105310</th>\n      <td>1477</td>\n      <td>1</td>\n      <td>29</td>\n      <td>4</td>\n      <td>1</td>\n      <td>2</td>\n      <td>44</td>\n      <td>0</td>\n      <td>27329</td>\n      <td>1</td>\n    </tr>\n    <tr>\n      <th>105311</th>\n      <td>41693</td>\n      <td>1</td>\n      <td>3</td>\n      <td>6</td>\n      <td>2</td>\n      <td>0</td>\n      <td>8</td>\n      <td>0</td>\n      <td>18118</td>\n      <td>0</td>\n    </tr>\n  </tbody>\n</table>\n<p>105312 rows × 10 columns</p>\n</div>"
          },
          "metadata": {}
        }
      ]
    },
    {
      "cell_type": "code",
      "source": [
        "pre=load(\"extra1.joblib\")\n",
        "predicted=pre.predict(input1)\n",
        "ff=pd.DataFrame({\"ID\":input1[\"ID\"],\n",
        "                 \"Is_Lead\"\n",
        "                 :predicted})\n",
        "ff.to_csv ('dataframe.csv', index = None, header=True) "
      ],
      "metadata": {
        "id": "wDD_PMyGF4aZ",
        "execution": {
          "iopub.status.busy": "2021-05-29T07:37:46.817707Z",
          "iopub.execute_input": "2021-05-29T07:37:46.818244Z",
          "iopub.status.idle": "2021-05-29T07:37:47.147734Z",
          "shell.execute_reply.started": "2021-05-29T07:37:46.818212Z",
          "shell.execute_reply": "2021-05-29T07:37:47.147013Z"
        },
        "trusted": true
      },
      "execution_count": null,
      "outputs": []
    },
    {
      "cell_type": "markdown",
      "source": [
        "## SECOND ATTEMPT\n"
      ],
      "metadata": {
        "id": "VXqfW5CG_oza"
      }
    },
    {
      "cell_type": "code",
      "source": [
        "minority_class_len = len(train[train[target] == 1])\n",
        "print(minority_class_len)\n",
        "\n",
        "majority_class_indices = train[train[target] == 0].index\n",
        "print(majority_class_indices)"
      ],
      "metadata": {
        "id": "AWTlseCZ6GZn",
        "outputId": "65fca34c-99e4-4f6a-d85b-e07d99780463",
        "execution": {
          "iopub.status.busy": "2021-05-29T07:37:51.524452Z",
          "iopub.execute_input": "2021-05-29T07:37:51.524974Z",
          "iopub.status.idle": "2021-05-29T07:37:51.579104Z",
          "shell.execute_reply.started": "2021-05-29T07:37:51.524921Z",
          "shell.execute_reply": "2021-05-29T07:37:51.578087Z"
        },
        "trusted": true
      },
      "execution_count": null,
      "outputs": [
        {
          "name": "stdout",
          "text": "58288\nInt64Index([     0,      1,      2,      3,      4,      5,      7,      8,\n                 9,     10,\n            ...\n            245715, 245716, 245717, 245718, 245719, 245720, 245721, 245722,\n            245723, 245724],\n           dtype='int64', length=187437)\n",
          "output_type": "stream"
        }
      ]
    },
    {
      "cell_type": "code",
      "source": [
        "\n",
        "random_majority_indices = np.random.choice(majority_class_indices,\n",
        "                                           minority_class_len, \n",
        "                                           replace=False)\n",
        "print(len(random_majority_indices))\n",
        "minority_class_indices = train[train[target] == 1].index\n",
        "print(minority_class_indices)"
      ],
      "metadata": {
        "id": "-H0Ujc7w6GeJ",
        "outputId": "746fa902-af96-40ba-b410-dbdd070563a5",
        "execution": {
          "iopub.status.busy": "2021-05-29T07:37:58.318809Z",
          "iopub.execute_input": "2021-05-29T07:37:58.319203Z",
          "iopub.status.idle": "2021-05-29T07:37:58.336970Z",
          "shell.execute_reply.started": "2021-05-29T07:37:58.319174Z",
          "shell.execute_reply": "2021-05-29T07:37:58.335729Z"
        },
        "trusted": true
      },
      "execution_count": null,
      "outputs": [
        {
          "name": "stdout",
          "text": "58288\nInt64Index([     6,     15,     16,     17,     20,     29,     31,     34,\n                36,     37,\n            ...\n            245683, 245684, 245690, 245693, 245694, 245697, 245699, 245709,\n            245713, 245714],\n           dtype='int64', length=58288)\n",
          "output_type": "stream"
        }
      ]
    },
    {
      "cell_type": "code",
      "source": [
        "under_sample_indices = np.concatenate([minority_class_indices,random_majority_indices])\n",
        "under_sample = train.loc[under_sample_indices]\n",
        "sns.countplot(x=target, data=under_sample)"
      ],
      "metadata": {
        "id": "RnKzhmkv6Gn0",
        "outputId": "e3756b92-9b4d-45e3-9aa5-44005208e8f5",
        "execution": {
          "iopub.status.busy": "2021-05-29T07:38:01.771251Z",
          "iopub.execute_input": "2021-05-29T07:38:01.771741Z",
          "iopub.status.idle": "2021-05-29T07:38:01.931779Z",
          "shell.execute_reply.started": "2021-05-29T07:38:01.771710Z",
          "shell.execute_reply": "2021-05-29T07:38:01.930726Z"
        },
        "trusted": true
      },
      "execution_count": null,
      "outputs": [
        {
          "execution_count": 28,
          "output_type": "execute_result",
          "data": {
            "text/plain": "<AxesSubplot:xlabel='Is_Lead', ylabel='count'>"
          },
          "metadata": {}
        },
        {
          "output_type": "display_data",
          "data": {
            "text/plain": "<Figure size 720x432 with 1 Axes>",
            "image/png": "[encoded data removed]"
          },
          "metadata": {}
        }
      ]
    },
    {
      "cell_type": "code",
      "source": [
        "from sklearn.naive_bayes import GaussianNB \n",
        "\n",
        "X = under_sample.loc[:, train.columns!=target]\n",
        "Y = under_sample.loc[:, train.columns==target]\n",
        "X_train, X_test, Y_train, Y_test = train_test_split(X, Y, test_size=0.33, random_state=42)\n"
      ],
      "metadata": {
        "id": "TEVgSDcU6Gsp",
        "execution": {
          "iopub.status.busy": "2021-05-29T07:41:31.382111Z",
          "iopub.execute_input": "2021-05-29T07:41:31.382450Z",
          "iopub.status.idle": "2021-05-29T07:41:31.413793Z",
          "shell.execute_reply.started": "2021-05-29T07:41:31.382421Z",
          "shell.execute_reply": "2021-05-29T07:41:31.412867Z"
        },
        "trusted": true
      },
      "execution_count": null,
      "outputs": []
    },
    {
      "cell_type": "code",
      "source": [
        "!pip install catboost\n",
        "from catboost import CatBoostClassifier"
      ],
      "metadata": {
        "id": "v-TB8dv9zUXz",
        "outputId": "26a1c4dc-ec1c-4adb-f6a3-eee8a98418fe",
        "execution": {
          "iopub.status.busy": "2021-05-29T07:46:23.224395Z",
          "iopub.execute_input": "2021-05-29T07:46:23.224772Z",
          "iopub.status.idle": "2021-05-29T07:46:29.490112Z",
          "shell.execute_reply.started": "2021-05-29T07:46:23.224743Z",
          "shell.execute_reply": "2021-05-29T07:46:29.488931Z"
        },
        "trusted": true
      },
      "execution_count": null,
      "outputs": [
        {
          "name": "stdout",
          "text": "Requirement already satisfied: catboost in /opt/conda/lib/python3.7/site-packages (0.25.1)\nRequirement already satisfied: scipy in /opt/conda/lib/python3.7/site-packages (from catboost) (1.5.4)\nRequirement already satisfied: pandas>=0.24.0 in /opt/conda/lib/python3.7/site-packages (from catboost) (1.2.3)\nRequirement already satisfied: numpy>=1.16.0 in /opt/conda/lib/python3.7/site-packages (from catboost) (1.19.5)\nRequirement already satisfied: plotly in /opt/conda/lib/python3.7/site-packages (from catboost) (4.14.3)\nRequirement already satisfied: six in /opt/conda/lib/python3.7/site-packages (from catboost) (1.15.0)\nRequirement already satisfied: graphviz in /opt/conda/lib/python3.7/site-packages (from catboost) (0.8.4)\nRequirement already satisfied: matplotlib in /opt/conda/lib/python3.7/site-packages (from catboost) (3.4.1)\nRequirement already satisfied: python-dateutil>=2.7.3 in /opt/conda/lib/python3.7/site-packages (from pandas>=0.24.0->catboost) (2.8.1)\nRequirement already satisfied: pytz>=2017.3 in /opt/conda/lib/python3.7/site-packages (from pandas>=0.24.0->catboost) (2021.1)\nRequirement already satisfied: pillow>=6.2.0 in /opt/conda/lib/python3.7/site-packages (from matplotlib->catboost) (7.2.0)\nRequirement already satisfied: kiwisolver>=1.0.1 in /opt/conda/lib/python3.7/site-packages (from matplotlib->catboost) (1.3.1)\nRequirement already satisfied: pyparsing>=2.2.1 in /opt/conda/lib/python3.7/site-packages (from matplotlib->catboost) (2.4.7)\nRequirement already satisfied: cycler>=0.10 in /opt/conda/lib/python3.7/site-packages (from matplotlib->catboost) (0.10.0)\nRequirement already satisfied: retrying>=1.3.3 in /opt/conda/lib/python3.7/site-packages (from plotly->catboost) (1.3.3)\n",
          "output_type": "stream"
        }
      ]
    },
    {
      "cell_type": "markdown",
      "source": [
        "## THIS TIME I USED CATBOOST\n"
      ],
      "metadata": {
        "id": "hnZyOixX_wfB"
      }
    },
    {
      "cell_type": "code",
      "source": [
        "from sklearn.ensemble import RandomForestRegressor\n",
        "from sklearn.tree import ExtraTreeRegressor\n",
        "import xgboost as xgb\n",
        "import lightgbm as lgb\n",
        "from sklearn import linear_model\n",
        "from catboost import CatBoostRegressor\n",
        "params = {'n_estimators':10000, 'learning_rate': 0.1, 'eval_metric':'RMSE', 'loss_function':'RMSE', 'task_type':'GPU', 'devices':'0:1', 'random_state':42}\n",
        "model = CatBoostRegressor(**params)\n",
        "model.fit(X,Y,verbose=1000)\n",
        "predictions_catboost = model.predict(input1)"
      ],
      "metadata": {
        "id": "nq7xwEW7Dpxb"
      },
      "execution_count": null,
      "outputs": []
    },
    {
      "cell_type": "code",
      "source": [
        "from joblib import dump, load\n",
        "dump(model, 'extra7.joblib') "
      ],
      "metadata": {
        "id": "Q3vR6J4n8Nuy"
      },
      "execution_count": null,
      "outputs": []
    },
    {
      "cell_type": "code",
      "source": [
        "test=pd.read_csv(\"/content/gdrive/MyDrive/Untitled form (File responses)/test_mSzZ8RL.csv\")"
      ],
      "metadata": {
        "id": "pZa_fsn98fFD"
      },
      "execution_count": null,
      "outputs": []
    },
    {
      "cell_type": "code",
      "source": [
        "\n",
        " \n",
        "test['Credit_Product']=test['Credit_Product'].astype(str)\n",
        "df=test.copy()\n",
        "lab=LabelEncoder()\n",
        "df[\"Gender\"]=lab.fit_transform(test[\"Gender\"])\n",
        "df[\"Occupation\"]=lab.fit_transform(test[\"Occupation\"])\n",
        "df[\"Credit_Product\"]=lab.fit_transform(test[\"Credit_Product\"])\n",
        "df[\"Is_Active\"]=lab.fit_transform(test[\"Is_Active\"])\n",
        "df[\"Channel_Code\"]=lab.fit_transform(test[\"Channel_Code\"])\n",
        "df[\"ID\"]=lab.fit_transform(test[\"ID\"])\n",
        "df[\"Age\"]=lab.fit_transform(test[\"Age\"])\n",
        "df[\"Region_Code\"]=lab.fit_transform(test[\"Region_Code\"])\n",
        "df[\"Vintage\"]=lab.fit_transform(test[\"Vintage\"])\n",
        "df[\"Avg_Account_Balance\"]=lab.fit_transform(test[\"Avg_Account_Balance\"])\n",
        "df.head()"
      ],
      "metadata": {
        "id": "Z9CFmHkm8fJz"
      },
      "execution_count": null,
      "outputs": []
    },
    {
      "cell_type": "code",
      "source": [
        "# target1=df.iloc[:,10:]\n",
        "input1=df.iloc[:,0:]\n",
        "input1"
      ],
      "metadata": {
        "id": "MlHANh3y8fPs"
      },
      "execution_count": null,
      "outputs": []
    },
    {
      "cell_type": "code",
      "source": [
        "pre=load(\"extra7.joblib\")\n",
        "predicted=pre.predict(input1)\n",
        "ff=pd.DataFrame({\"ID\":test[\"ID\"],\n",
        "                 \"Is_Lead\"\n",
        "                 :predicted})\n",
        "\n",
        "ff.to_csv(\"extra77.csv\")"
      ],
      "metadata": {
        "id": "TDoRxFNP8TZE"
      },
      "execution_count": null,
      "outputs": []
    },
    {
      "cell_type": "markdown",
      "source": [
        "##FINAL ATTEMPT I USED EXTRA TREE CLASSIFIER MODEL"
      ],
      "metadata": {
        "id": "N87RZQWV_6KH"
      }
    },
    {
      "cell_type": "code",
      "source": [
        "X = under_sample.loc[:, train.columns!=target]\n",
        "Y = under_sample.loc[:, train.columns==target]\n",
        "X_train, X_test, Y_train, Y_test = train_test_split(X, Y, test_size=0.33, random_state=42)\n",
        "clf = ExtraTreesClassifier().fit(X_train, Y_train)\n",
        "Y_Test_Pred = clf.predict(X_test)\n"
      ],
      "metadata": {
        "id": "nqYcZkZ-zRi4"
      },
      "execution_count": null,
      "outputs": []
    },
    {
      "cell_type": "code",
      "source": [
        "clf = ExtraTreesClassifier().fit(X_train, Y_train)\n",
        "Y_Test_Pred = clf.predict(X_test)"
      ],
      "metadata": {
        "id": "xQiihGX1xS37",
        "execution": {
          "iopub.status.busy": "2021-05-29T07:53:26.327609Z",
          "iopub.execute_input": "2021-05-29T07:53:26.328003Z",
          "iopub.status.idle": "2021-05-29T07:53:44.546819Z",
          "shell.execute_reply.started": "2021-05-29T07:53:26.327952Z",
          "shell.execute_reply": "2021-05-29T07:53:44.545728Z"
        },
        "trusted": true
      },
      "execution_count": null,
      "outputs": []
    },
    {
      "cell_type": "code",
      "source": [
        "\n",
        "generate_model_report(Y_test, Y_Test_Pred)"
      ],
      "metadata": {
        "id": "nPFoTOHt6Gxp",
        "outputId": "37cececa-c045-4481-af1a-0a98f30f5767",
        "execution": {
          "iopub.status.busy": "2021-05-29T07:53:49.888152Z",
          "iopub.execute_input": "2021-05-29T07:53:49.888492Z",
          "iopub.status.idle": "2021-05-29T07:53:49.978002Z",
          "shell.execute_reply.started": "2021-05-29T07:53:49.888464Z",
          "shell.execute_reply": "2021-05-29T07:53:49.976927Z"
        },
        "trusted": true
      },
      "execution_count": null,
      "outputs": [
        {
          "name": "stdout",
          "text": "Accuracy =  0.8523245776297941\nPrecision =  0.7514920194309507\nRecall =  0.5633355875773812\nF1 Score =  0.643950881574644\n",
          "output_type": "stream"
        }
      ]
    },
    {
      "cell_type": "markdown",
      "source": [
        "## I GOT ROC SCORE 0.85"
      ],
      "metadata": {
        "id": "LQwjfdbTADjl"
      }
    },
    {
      "cell_type": "code",
      "source": [
        "generate_auc_roc_curve(clf, X_test)"
      ],
      "metadata": {
        "id": "rifNSFHN6G2t",
        "outputId": "a7c6dac6-3bc7-49e9-8f6e-00255b97e860",
        "execution": {
          "iopub.status.busy": "2021-05-29T07:53:53.223581Z",
          "iopub.execute_input": "2021-05-29T07:53:53.223908Z",
          "iopub.status.idle": "2021-05-29T07:53:56.852080Z",
          "shell.execute_reply.started": "2021-05-29T07:53:53.223881Z",
          "shell.execute_reply": "2021-05-29T07:53:56.851318Z"
        },
        "trusted": true
      },
      "execution_count": null,
      "outputs": [
        {
          "output_type": "display_data",
          "data": {
            "text/plain": "<Figure size 720x432 with 1 Axes>",
            "image/png": "[encoded data removed]"
          },
          "metadata": {}
        }
      ]
    },
    {
      "cell_type": "code",
      "source": [
        "from joblib import dump, load\n",
        "dump(clf1, 'extra7.joblib') "
      ],
      "metadata": {
        "id": "rcRmpnm66G76"
      },
      "execution_count": null,
      "outputs": []
    },
    {
      "cell_type": "code",
      "source": [
        "pre=load(\"extra7.joblib\")\n",
        "predicted=pre.predict(input1)\n",
        "ff=pd.DataFrame({\"ID\":test[\"ID\"],\n",
        "                 \"Is_Lead\"\n",
        "                 :predicted})\n",
        "\n",
        "ff.to_csv(\"extra77.csv\")"
      ],
      "metadata": {
        "id": "YM-Ck3D56HA8"
      },
      "execution_count": null,
      "outputs": []
    }
  ]
}