{
  "nbformat": 4,
  "nbformat_minor": 0,
  "metadata": {
    "colab": {
      "provenance": [],
      "collapsed_sections": [
        "OH-NqtuNEBvs",
        "2Oiwzj_iNxPL",
        "7CuzpTAJS-_J"
      ]
    },
    "kernelspec": {
      "name": "python3",
      "display_name": "Python 3"
    },
    "language_info": {
      "name": "python"
    }
  },
  "cells": [
    {
      "cell_type": "markdown",
      "metadata": {
        "id": "OH-NqtuNEBvs"
      },
      "source": [
        "## **PREPROCESSING**"
      ]
    },
    {
      "cell_type": "code",
      "metadata": {
        "id": "p2zEgyawvdhU"
      },
      "source": [
        "import warnings\n",
        "import pandas as pd\n",
        "import seaborn as sns\n",
        "import matplotlib.pyplot as plt\n",
        "\n",
        "from sklearn.model_selection import train_test_split\n",
        "from sklearn.linear_model import LogisticRegression\n",
        "from sklearn import tree\n",
        "from sklearn.ensemble import RandomForestClassifier\n",
        "from sklearn.naive_bayes import GaussianNB\n",
        "from sklearn.neighbors import KNeighborsClassifier\n",
        "from sklearn.svm import SVC\n",
        "from sklearn.preprocessing import LabelEncoder\n",
        "from sklearn.metrics import confusion_matrix\n",
        "\n",
        "warnings.filterwarnings('ignore')"
      ],
      "execution_count": null,
      "outputs": []
    },
    {
      "cell_type": "code",
      "metadata": {
        "id": "z7HSdHRD1W59"
      },
      "source": [
        "file_path = '/content/drive/MyDrive/Files/'\n",
        "\n",
        "train_data = pd.read_csv(file_path + 'train_data.csv')\n",
        "\n",
        "test_data = pd.read_csv(file_path + 'test_data.csv')"
      ],
      "execution_count": null,
      "outputs": []
    },
    {
      "cell_type": "code",
      "metadata": {
        "id": "2eN1QCK62Rhu"
      },
      "source": [
        "def data_investigate(df):\n",
        "    print('No of Rows : ', df.shape[0])\n",
        "    print('No of Coloums : ', df.shape[1])\n",
        "    print('**'*25)\n",
        "    print('Colums Names : \\n', df.columns)\n",
        "    print('**'*25)\n",
        "    print('Datatype of Columns : \\n', df.dtypes)\n",
        "    print('**'*25)\n",
        "    print('Missing Values : ')\n",
        "    c = df.isnull().sum()\n",
        "    c = c[c > 0]\n",
        "    print(c)\n",
        "    print('**'*25)\n",
        "    print('Missing vaules %age wise :\\n')\n",
        "    print((100*(df.isnull().sum()/len(df.index))))\n",
        "    print('**'*25)\n",
        "    print('Pictorial Representation : ')\n",
        "    plt.figure(figsize = (5, 5))\n",
        "    sns.heatmap(df.isnull(), yticklabels = False, cbar = False)\n",
        "    plt.show()"
      ],
      "execution_count": null,
      "outputs": []
    },
    {
      "cell_type": "code",
      "metadata": {
        "id": "KLfD0Eg4G0PT"
      },
      "source": [
        "def data_heatmap(df):\n",
        "    plt.figure(figsize = (10, 10))\n",
        "    corr = df.corr()\n",
        "\n",
        "    # Plot figsize\n",
        "    fig, ax = plt.subplots(figsize=(10, 8))\n",
        "\n",
        "    # Generate Heat Map, allow annotations and place floats in map\n",
        "    sns.heatmap(corr, cmap = 'magma', annot = True, fmt = '.2f')\n",
        "\n",
        "    # Apply xticks\n",
        "    plt.xticks(range(len(corr.columns)), corr.columns)\n",
        "\n",
        "    # Apply yticks\n",
        "    plt.yticks(range(len(corr.columns)), corr.columns)\n",
        "\n",
        "    # show plot\n",
        "    plt.show()\n",
        "    fig.show()"
      ],
      "execution_count": null,
      "outputs": []
    },
    {
      "cell_type": "code",
      "metadata": {
        "id": "hoEkzxB_RGx2"
      },
      "source": [
        "def data_confusionmatrix(test, predicted):\n",
        "    cm = confusion_matrix(test, predicted)\n",
        "    sns.heatmap(cm, annot = True)\n",
        "    plt.xlabel('Predicted')\n",
        "    plt.ylabel('Actual')"
      ],
      "execution_count": null,
      "outputs": []
    },
    {
      "cell_type": "code",
      "metadata": {
        "colab": {
          "base_uri": "https://localhost:8080/"
        },
        "id": "iS4KakUD3FzC",
        "outputId": "90cbda86-415a-404d-9a58-8cecc244ead3"
      },
      "source": [
        "data_investigate(train_data)"
      ],
      "execution_count": null,
      "outputs": [
        {
          "output_type": "stream",
          "text": [
            "No of Rows :  245725\n",
            "No of Coloums :  11\n",
            "**************************************************\n",
            "Colums Names : \n",
            " Index(['ID', 'Gender', 'Age', 'Region_Code', 'Occupation', 'Channel_Code',\n",
            "       'Vintage', 'Credit_Product', 'Avg_Account_Balance', 'Is_Active',\n",
            "       'Is_Lead'],\n",
            "      dtype='object')\n",
            "**************************************************\n",
            "Datatype of Columns : \n",
            " ID                     object\n",
            "Gender                 object\n",
            "Age                     int64\n",
            "Region_Code            object\n",
            "Occupation             object\n",
            "Channel_Code           object\n",
            "Vintage                 int64\n",
            "Credit_Product         object\n",
            "Avg_Account_Balance     int64\n",
            "Is_Active              object\n",
            "Is_Lead                 int64\n",
            "dtype: object\n",
            "**************************************************\n",
            "Missing Values : \n",
            "Credit_Product    29325\n",
            "dtype: int64\n",
            "**************************************************\n",
            "Missing vaules %age wise :\n",
            "\n",
            "ID                      0.000000\n",
            "Gender                  0.000000\n",
            "Age                     0.000000\n",
            "Region_Code             0.000000\n",
            "Occupation              0.000000\n",
            "Channel_Code            0.000000\n",
            "Vintage                 0.000000\n",
            "Credit_Product         11.934073\n",
            "Avg_Account_Balance     0.000000\n",
            "Is_Active               0.000000\n",
            "Is_Lead                 0.000000\n",
            "dtype: float64\n",
            "**************************************************\n",
            "Pictorial Representation : \n"
          ],
          "name": "stdout"
        },
        {
          "output_type": "display_data",
          "data": {
            "image/png": "[encoded data removed]",
            "text/plain": [
              "<Figure size 360x360 with 1 Axes>"
            ]
          },
          "metadata": {
            "tags": [],
            "needs_background": "light"
          }
        }
      ]
    },
    {
      "cell_type": "code",
      "metadata": {
        "id": "iDpp4eld4Y5r"
      },
      "source": [
        "train_data = train_data.fillna('Yes')\n",
        "train_data.dropna(how = 'any', inplace = True)\n",
        "train_data.drop_duplicates(inplace = True)"
      ],
      "execution_count": null,
      "outputs": []
    },
    {
      "cell_type": "code",
      "metadata": {
        "colab": {
          "base_uri": "https://localhost:8080/"
        },
        "id": "6ecKl3GZ8ihb",
        "outputId": "d7d2933e-45df-458c-cd6c-2247136f38cf"
      },
      "source": [
        "data_investigate(train_data)"
      ],
      "execution_count": null,
      "outputs": [
        {
          "output_type": "stream",
          "text": [
            "No of Rows :  245725\n",
            "No of Coloums :  11\n",
            "**************************************************\n",
            "Colums Names : \n",
            " Index(['ID', 'Gender', 'Age', 'Region_Code', 'Occupation', 'Channel_Code',\n",
            "       'Vintage', 'Credit_Product', 'Avg_Account_Balance', 'Is_Active',\n",
            "       'Is_Lead'],\n",
            "      dtype='object')\n",
            "**************************************************\n",
            "Datatype of Columns : \n",
            " ID                     object\n",
            "Gender                 object\n",
            "Age                     int64\n",
            "Region_Code            object\n",
            "Occupation             object\n",
            "Channel_Code           object\n",
            "Vintage                 int64\n",
            "Credit_Product         object\n",
            "Avg_Account_Balance     int64\n",
            "Is_Active              object\n",
            "Is_Lead                 int64\n",
            "dtype: object\n",
            "**************************************************\n",
            "Missing Values : \n",
            "Series([], dtype: int64)\n",
            "**************************************************\n",
            "Missing vaules %age wise :\n",
            "\n",
            "ID                     0.0\n",
            "Gender                 0.0\n",
            "Age                    0.0\n",
            "Region_Code            0.0\n",
            "Occupation             0.0\n",
            "Channel_Code           0.0\n",
            "Vintage                0.0\n",
            "Credit_Product         0.0\n",
            "Avg_Account_Balance    0.0\n",
            "Is_Active              0.0\n",
            "Is_Lead                0.0\n",
            "dtype: float64\n",
            "**************************************************\n",
            "Pictorial Representation : \n"
          ],
          "name": "stdout"
        },
        {
          "output_type": "display_data",
          "data": {
            "image/png": "[encoded data removed]",
            "text/plain": [
              "<Figure size 360x360 with 1 Axes>"
            ]
          },
          "metadata": {
            "tags": [],
            "needs_background": "light"
          }
        }
      ]
    },
    {
      "cell_type": "code",
      "metadata": {
        "id": "CQIQoCo89KHt"
      },
      "source": [
        "train = LabelEncoder()"
      ],
      "execution_count": null,
      "outputs": []
    },
    {
      "cell_type": "code",
      "metadata": {
        "id": "uDjamgGq3dpH"
      },
      "source": [
        "train_data['Gender_T'] = train.fit_transform(train_data['Gender'])\n",
        "train_data['Occupation_T'] = train.fit_transform(train_data['Occupation'])\n",
        "train_data['Channel_Code_T'] = train.fit_transform(train_data['Channel_Code'])\n",
        "train_data['Credit_Product_T'] = train.fit_transform(train_data['Credit_Product'])\n",
        "train_data['Is_Active_T'] = train.fit_transform(train_data['Is_Active'])"
      ],
      "execution_count": null,
      "outputs": []
    },
    {
      "cell_type": "code",
      "metadata": {
        "colab": {
          "base_uri": "https://localhost:8080/"
        },
        "id": "RuXmgRgJ9Oqs",
        "outputId": "d6a1b6ff-afc6-4c17-d1b1-247fa538840f"
      },
      "source": [
        "train_data"
      ],
      "execution_count": null,
      "outputs": [
        {
          "output_type": "execute_result",
          "data": {
            "text/html": [
              "<div>\n",
              "<style scoped>\n",
              "    .dataframe tbody tr th:only-of-type {\n",
              "        vertical-align: middle;\n",
              "    }\n",
              "\n",
              "    .dataframe tbody tr th {\n",
              "        vertical-align: top;\n",
              "    }\n",
              "\n",
              "    .dataframe thead th {\n",
              "        text-align: right;\n",
              "    }\n",
              "</style>\n",
              "<table border=\"1\" class=\"dataframe\">\n",
              "  <thead>\n",
              "    <tr style=\"text-align: right;\">\n",
              "      <th></th>\n",
              "      <th>ID</th>\n",
              "      <th>Gender</th>\n",
              "      <th>Age</th>\n",
              "      <th>Region_Code</th>\n",
              "      <th>Occupation</th>\n",
              "      <th>Channel_Code</th>\n",
              "      <th>Vintage</th>\n",
              "      <th>Credit_Product</th>\n",
              "      <th>Avg_Account_Balance</th>\n",
              "      <th>Is_Active</th>\n",
              "      <th>Is_Lead</th>\n",
              "      <th>Gender_T</th>\n",
              "      <th>Occupation_T</th>\n",
              "      <th>Channel_Code_T</th>\n",
              "      <th>Credit_Product_T</th>\n",
              "      <th>Is_Active_T</th>\n",
              "    </tr>\n",
              "  </thead>\n",
              "  <tbody>\n",
              "    <tr>\n",
              "      <th>0</th>\n",
              "      <td>NNVBBKZB</td>\n",
              "      <td>Female</td>\n",
              "      <td>73</td>\n",
              "      <td>RG268</td>\n",
              "      <td>Other</td>\n",
              "      <td>X3</td>\n",
              "      <td>43</td>\n",
              "      <td>No</td>\n",
              "      <td>1045696</td>\n",
              "      <td>No</td>\n",
              "      <td>0</td>\n",
              "      <td>0</td>\n",
              "      <td>1</td>\n",
              "      <td>2</td>\n",
              "      <td>0</td>\n",
              "      <td>0</td>\n",
              "    </tr>\n",
              "    <tr>\n",
              "      <th>1</th>\n",
              "      <td>IDD62UNG</td>\n",
              "      <td>Female</td>\n",
              "      <td>30</td>\n",
              "      <td>RG277</td>\n",
              "      <td>Salaried</td>\n",
              "      <td>X1</td>\n",
              "      <td>32</td>\n",
              "      <td>No</td>\n",
              "      <td>581988</td>\n",
              "      <td>No</td>\n",
              "      <td>0</td>\n",
              "      <td>0</td>\n",
              "      <td>2</td>\n",
              "      <td>0</td>\n",
              "      <td>0</td>\n",
              "      <td>0</td>\n",
              "    </tr>\n",
              "    <tr>\n",
              "      <th>2</th>\n",
              "      <td>HD3DSEMC</td>\n",
              "      <td>Female</td>\n",
              "      <td>56</td>\n",
              "      <td>RG268</td>\n",
              "      <td>Self_Employed</td>\n",
              "      <td>X3</td>\n",
              "      <td>26</td>\n",
              "      <td>No</td>\n",
              "      <td>1484315</td>\n",
              "      <td>Yes</td>\n",
              "      <td>0</td>\n",
              "      <td>0</td>\n",
              "      <td>3</td>\n",
              "      <td>2</td>\n",
              "      <td>0</td>\n",
              "      <td>1</td>\n",
              "    </tr>\n",
              "    <tr>\n",
              "      <th>3</th>\n",
              "      <td>BF3NC7KV</td>\n",
              "      <td>Male</td>\n",
              "      <td>34</td>\n",
              "      <td>RG270</td>\n",
              "      <td>Salaried</td>\n",
              "      <td>X1</td>\n",
              "      <td>19</td>\n",
              "      <td>No</td>\n",
              "      <td>470454</td>\n",
              "      <td>No</td>\n",
              "      <td>0</td>\n",
              "      <td>1</td>\n",
              "      <td>2</td>\n",
              "      <td>0</td>\n",
              "      <td>0</td>\n",
              "      <td>0</td>\n",
              "    </tr>\n",
              "    <tr>\n",
              "      <th>4</th>\n",
              "      <td>TEASRWXV</td>\n",
              "      <td>Female</td>\n",
              "      <td>30</td>\n",
              "      <td>RG282</td>\n",
              "      <td>Salaried</td>\n",
              "      <td>X1</td>\n",
              "      <td>33</td>\n",
              "      <td>No</td>\n",
              "      <td>886787</td>\n",
              "      <td>No</td>\n",
              "      <td>0</td>\n",
              "      <td>0</td>\n",
              "      <td>2</td>\n",
              "      <td>0</td>\n",
              "      <td>0</td>\n",
              "      <td>0</td>\n",
              "    </tr>\n",
              "    <tr>\n",
              "      <th>...</th>\n",
              "      <td>...</td>\n",
              "      <td>...</td>\n",
              "      <td>...</td>\n",
              "      <td>...</td>\n",
              "      <td>...</td>\n",
              "      <td>...</td>\n",
              "      <td>...</td>\n",
              "      <td>...</td>\n",
              "      <td>...</td>\n",
              "      <td>...</td>\n",
              "      <td>...</td>\n",
              "      <td>...</td>\n",
              "      <td>...</td>\n",
              "      <td>...</td>\n",
              "      <td>...</td>\n",
              "      <td>...</td>\n",
              "    </tr>\n",
              "    <tr>\n",
              "      <th>245720</th>\n",
              "      <td>BPAWWXZN</td>\n",
              "      <td>Male</td>\n",
              "      <td>51</td>\n",
              "      <td>RG284</td>\n",
              "      <td>Self_Employed</td>\n",
              "      <td>X3</td>\n",
              "      <td>109</td>\n",
              "      <td>Yes</td>\n",
              "      <td>1925586</td>\n",
              "      <td>No</td>\n",
              "      <td>0</td>\n",
              "      <td>1</td>\n",
              "      <td>3</td>\n",
              "      <td>2</td>\n",
              "      <td>1</td>\n",
              "      <td>0</td>\n",
              "    </tr>\n",
              "    <tr>\n",
              "      <th>245721</th>\n",
              "      <td>HFNB7JY8</td>\n",
              "      <td>Male</td>\n",
              "      <td>27</td>\n",
              "      <td>RG268</td>\n",
              "      <td>Salaried</td>\n",
              "      <td>X1</td>\n",
              "      <td>15</td>\n",
              "      <td>No</td>\n",
              "      <td>862952</td>\n",
              "      <td>Yes</td>\n",
              "      <td>0</td>\n",
              "      <td>1</td>\n",
              "      <td>2</td>\n",
              "      <td>0</td>\n",
              "      <td>0</td>\n",
              "      <td>1</td>\n",
              "    </tr>\n",
              "    <tr>\n",
              "      <th>245722</th>\n",
              "      <td>GEHAUCWT</td>\n",
              "      <td>Female</td>\n",
              "      <td>26</td>\n",
              "      <td>RG281</td>\n",
              "      <td>Salaried</td>\n",
              "      <td>X1</td>\n",
              "      <td>13</td>\n",
              "      <td>No</td>\n",
              "      <td>670659</td>\n",
              "      <td>No</td>\n",
              "      <td>0</td>\n",
              "      <td>0</td>\n",
              "      <td>2</td>\n",
              "      <td>0</td>\n",
              "      <td>0</td>\n",
              "      <td>0</td>\n",
              "    </tr>\n",
              "    <tr>\n",
              "      <th>245723</th>\n",
              "      <td>GE7V8SAH</td>\n",
              "      <td>Female</td>\n",
              "      <td>28</td>\n",
              "      <td>RG273</td>\n",
              "      <td>Salaried</td>\n",
              "      <td>X1</td>\n",
              "      <td>31</td>\n",
              "      <td>No</td>\n",
              "      <td>407504</td>\n",
              "      <td>No</td>\n",
              "      <td>0</td>\n",
              "      <td>0</td>\n",
              "      <td>2</td>\n",
              "      <td>0</td>\n",
              "      <td>0</td>\n",
              "      <td>0</td>\n",
              "    </tr>\n",
              "    <tr>\n",
              "      <th>245724</th>\n",
              "      <td>BOCZSWLJ</td>\n",
              "      <td>Male</td>\n",
              "      <td>29</td>\n",
              "      <td>RG269</td>\n",
              "      <td>Salaried</td>\n",
              "      <td>X1</td>\n",
              "      <td>21</td>\n",
              "      <td>No</td>\n",
              "      <td>1129276</td>\n",
              "      <td>No</td>\n",
              "      <td>0</td>\n",
              "      <td>1</td>\n",
              "      <td>2</td>\n",
              "      <td>0</td>\n",
              "      <td>0</td>\n",
              "      <td>0</td>\n",
              "    </tr>\n",
              "  </tbody>\n",
              "</table>\n",
              "<p>245725 rows × 16 columns</p>\n",
              "</div>"
            ],
            "text/plain": [
              "              ID  Gender  Age  ... Channel_Code_T Credit_Product_T Is_Active_T\n",
              "0       NNVBBKZB  Female   73  ...              2                0           0\n",
              "1       IDD62UNG  Female   30  ...              0                0           0\n",
              "2       HD3DSEMC  Female   56  ...              2                0           1\n",
              "3       BF3NC7KV    Male   34  ...              0                0           0\n",
              "4       TEASRWXV  Female   30  ...              0                0           0\n",
              "...          ...     ...  ...  ...            ...              ...         ...\n",
              "245720  BPAWWXZN    Male   51  ...              2                1           0\n",
              "245721  HFNB7JY8    Male   27  ...              0                0           1\n",
              "245722  GEHAUCWT  Female   26  ...              0                0           0\n",
              "245723  GE7V8SAH  Female   28  ...              0                0           0\n",
              "245724  BOCZSWLJ    Male   29  ...              0                0           0\n",
              "\n",
              "[245725 rows x 16 columns]"
            ]
          },
          "metadata": {
            "tags": []
          },
          "execution_count": 212
        }
      ]
    },
    {
      "cell_type": "code",
      "metadata": {
        "colab": {
          "base_uri": "https://localhost:8080/"
        },
        "id": "R2DIEq0z_eLx",
        "outputId": "b2a64cec-ca84-4ae1-f89c-ee188f8af00e"
      },
      "source": [
        "train_data_input = train_data[['Gender_T', 'Occupation_T', 'Channel_Code_T', 'Vintage', 'Credit_Product_T', 'Avg_Account_Balance', 'Is_Active_T']]\n",
        "train_data_input"
      ],
      "execution_count": null,
      "outputs": [
        {
          "output_type": "execute_result",
          "data": {
            "text/html": [
              "<div>\n",
              "<style scoped>\n",
              "    .dataframe tbody tr th:only-of-type {\n",
              "        vertical-align: middle;\n",
              "    }\n",
              "\n",
              "    .dataframe tbody tr th {\n",
              "        vertical-align: top;\n",
              "    }\n",
              "\n",
              "    .dataframe thead th {\n",
              "        text-align: right;\n",
              "    }\n",
              "</style>\n",
              "<table border=\"1\" class=\"dataframe\">\n",
              "  <thead>\n",
              "    <tr style=\"text-align: right;\">\n",
              "      <th></th>\n",
              "      <th>Gender_T</th>\n",
              "      <th>Occupation_T</th>\n",
              "      <th>Channel_Code_T</th>\n",
              "      <th>Vintage</th>\n",
              "      <th>Credit_Product_T</th>\n",
              "      <th>Avg_Account_Balance</th>\n",
              "      <th>Is_Active_T</th>\n",
              "    </tr>\n",
              "  </thead>\n",
              "  <tbody>\n",
              "    <tr>\n",
              "      <th>0</th>\n",
              "      <td>0</td>\n",
              "      <td>1</td>\n",
              "      <td>2</td>\n",
              "      <td>43</td>\n",
              "      <td>0</td>\n",
              "      <td>1045696</td>\n",
              "      <td>0</td>\n",
              "    </tr>\n",
              "    <tr>\n",
              "      <th>1</th>\n",
              "      <td>0</td>\n",
              "      <td>2</td>\n",
              "      <td>0</td>\n",
              "      <td>32</td>\n",
              "      <td>0</td>\n",
              "      <td>581988</td>\n",
              "      <td>0</td>\n",
              "    </tr>\n",
              "    <tr>\n",
              "      <th>2</th>\n",
              "      <td>0</td>\n",
              "      <td>3</td>\n",
              "      <td>2</td>\n",
              "      <td>26</td>\n",
              "      <td>0</td>\n",
              "      <td>1484315</td>\n",
              "      <td>1</td>\n",
              "    </tr>\n",
              "    <tr>\n",
              "      <th>3</th>\n",
              "      <td>1</td>\n",
              "      <td>2</td>\n",
              "      <td>0</td>\n",
              "      <td>19</td>\n",
              "      <td>0</td>\n",
              "      <td>470454</td>\n",
              "      <td>0</td>\n",
              "    </tr>\n",
              "    <tr>\n",
              "      <th>4</th>\n",
              "      <td>0</td>\n",
              "      <td>2</td>\n",
              "      <td>0</td>\n",
              "      <td>33</td>\n",
              "      <td>0</td>\n",
              "      <td>886787</td>\n",
              "      <td>0</td>\n",
              "    </tr>\n",
              "    <tr>\n",
              "      <th>...</th>\n",
              "      <td>...</td>\n",
              "      <td>...</td>\n",
              "      <td>...</td>\n",
              "      <td>...</td>\n",
              "      <td>...</td>\n",
              "      <td>...</td>\n",
              "      <td>...</td>\n",
              "    </tr>\n",
              "    <tr>\n",
              "      <th>245720</th>\n",
              "      <td>1</td>\n",
              "      <td>3</td>\n",
              "      <td>2</td>\n",
              "      <td>109</td>\n",
              "      <td>1</td>\n",
              "      <td>1925586</td>\n",
              "      <td>0</td>\n",
              "    </tr>\n",
              "    <tr>\n",
              "      <th>245721</th>\n",
              "      <td>1</td>\n",
              "      <td>2</td>\n",
              "      <td>0</td>\n",
              "      <td>15</td>\n",
              "      <td>0</td>\n",
              "      <td>862952</td>\n",
              "      <td>1</td>\n",
              "    </tr>\n",
              "    <tr>\n",
              "      <th>245722</th>\n",
              "      <td>0</td>\n",
              "      <td>2</td>\n",
              "      <td>0</td>\n",
              "      <td>13</td>\n",
              "      <td>0</td>\n",
              "      <td>670659</td>\n",
              "      <td>0</td>\n",
              "    </tr>\n",
              "    <tr>\n",
              "      <th>245723</th>\n",
              "      <td>0</td>\n",
              "      <td>2</td>\n",
              "      <td>0</td>\n",
              "      <td>31</td>\n",
              "      <td>0</td>\n",
              "      <td>407504</td>\n",
              "      <td>0</td>\n",
              "    </tr>\n",
              "    <tr>\n",
              "      <th>245724</th>\n",
              "      <td>1</td>\n",
              "      <td>2</td>\n",
              "      <td>0</td>\n",
              "      <td>21</td>\n",
              "      <td>0</td>\n",
              "      <td>1129276</td>\n",
              "      <td>0</td>\n",
              "    </tr>\n",
              "  </tbody>\n",
              "</table>\n",
              "<p>245725 rows × 7 columns</p>\n",
              "</div>"
            ],
            "text/plain": [
              "        Gender_T  Occupation_T  ...  Avg_Account_Balance  Is_Active_T\n",
              "0              0             1  ...              1045696            0\n",
              "1              0             2  ...               581988            0\n",
              "2              0             3  ...              1484315            1\n",
              "3              1             2  ...               470454            0\n",
              "4              0             2  ...               886787            0\n",
              "...          ...           ...  ...                  ...          ...\n",
              "245720         1             3  ...              1925586            0\n",
              "245721         1             2  ...               862952            1\n",
              "245722         0             2  ...               670659            0\n",
              "245723         0             2  ...               407504            0\n",
              "245724         1             2  ...              1129276            0\n",
              "\n",
              "[245725 rows x 7 columns]"
            ]
          },
          "metadata": {
            "tags": []
          },
          "execution_count": 213
        }
      ]
    },
    {
      "cell_type": "code",
      "metadata": {
        "colab": {
          "base_uri": "https://localhost:8080/"
        },
        "id": "VdI4ULoJH5jl",
        "outputId": "63aba367-5487-4bd3-9c68-8b1bfff511f3"
      },
      "source": [
        "train_data_input.describe()"
      ],
      "execution_count": null,
      "outputs": [
        {
          "output_type": "execute_result",
          "data": {
            "text/html": [
              "<div>\n",
              "<style scoped>\n",
              "    .dataframe tbody tr th:only-of-type {\n",
              "        vertical-align: middle;\n",
              "    }\n",
              "\n",
              "    .dataframe tbody tr th {\n",
              "        vertical-align: top;\n",
              "    }\n",
              "\n",
              "    .dataframe thead th {\n",
              "        text-align: right;\n",
              "    }\n",
              "</style>\n",
              "<table border=\"1\" class=\"dataframe\">\n",
              "  <thead>\n",
              "    <tr style=\"text-align: right;\">\n",
              "      <th></th>\n",
              "      <th>Gender_T</th>\n",
              "      <th>Occupation_T</th>\n",
              "      <th>Channel_Code_T</th>\n",
              "      <th>Vintage</th>\n",
              "      <th>Credit_Product_T</th>\n",
              "      <th>Avg_Account_Balance</th>\n",
              "      <th>Is_Active_T</th>\n",
              "    </tr>\n",
              "  </thead>\n",
              "  <tbody>\n",
              "    <tr>\n",
              "      <th>count</th>\n",
              "      <td>245725.000000</td>\n",
              "      <td>245725.000000</td>\n",
              "      <td>245725.000000</td>\n",
              "      <td>245725.000000</td>\n",
              "      <td>245725.000000</td>\n",
              "      <td>2.457250e+05</td>\n",
              "      <td>245725.000000</td>\n",
              "    </tr>\n",
              "    <tr>\n",
              "      <th>mean</th>\n",
              "      <td>0.546127</td>\n",
              "      <td>2.103282</td>\n",
              "      <td>0.902867</td>\n",
              "      <td>46.959141</td>\n",
              "      <td>0.412526</td>\n",
              "      <td>1.128403e+06</td>\n",
              "      <td>0.388381</td>\n",
              "    </tr>\n",
              "    <tr>\n",
              "      <th>std</th>\n",
              "      <td>0.497869</td>\n",
              "      <td>0.853751</td>\n",
              "      <td>0.884840</td>\n",
              "      <td>32.353136</td>\n",
              "      <td>0.492290</td>\n",
              "      <td>8.529364e+05</td>\n",
              "      <td>0.487383</td>\n",
              "    </tr>\n",
              "    <tr>\n",
              "      <th>min</th>\n",
              "      <td>0.000000</td>\n",
              "      <td>0.000000</td>\n",
              "      <td>0.000000</td>\n",
              "      <td>7.000000</td>\n",
              "      <td>0.000000</td>\n",
              "      <td>2.079000e+04</td>\n",
              "      <td>0.000000</td>\n",
              "    </tr>\n",
              "    <tr>\n",
              "      <th>25%</th>\n",
              "      <td>0.000000</td>\n",
              "      <td>1.000000</td>\n",
              "      <td>0.000000</td>\n",
              "      <td>20.000000</td>\n",
              "      <td>0.000000</td>\n",
              "      <td>6.043100e+05</td>\n",
              "      <td>0.000000</td>\n",
              "    </tr>\n",
              "    <tr>\n",
              "      <th>50%</th>\n",
              "      <td>1.000000</td>\n",
              "      <td>2.000000</td>\n",
              "      <td>1.000000</td>\n",
              "      <td>32.000000</td>\n",
              "      <td>0.000000</td>\n",
              "      <td>8.946010e+05</td>\n",
              "      <td>0.000000</td>\n",
              "    </tr>\n",
              "    <tr>\n",
              "      <th>75%</th>\n",
              "      <td>1.000000</td>\n",
              "      <td>3.000000</td>\n",
              "      <td>2.000000</td>\n",
              "      <td>73.000000</td>\n",
              "      <td>1.000000</td>\n",
              "      <td>1.366666e+06</td>\n",
              "      <td>1.000000</td>\n",
              "    </tr>\n",
              "    <tr>\n",
              "      <th>max</th>\n",
              "      <td>1.000000</td>\n",
              "      <td>3.000000</td>\n",
              "      <td>3.000000</td>\n",
              "      <td>135.000000</td>\n",
              "      <td>1.000000</td>\n",
              "      <td>1.035201e+07</td>\n",
              "      <td>1.000000</td>\n",
              "    </tr>\n",
              "  </tbody>\n",
              "</table>\n",
              "</div>"
            ],
            "text/plain": [
              "            Gender_T   Occupation_T  ...  Avg_Account_Balance    Is_Active_T\n",
              "count  245725.000000  245725.000000  ...         2.457250e+05  245725.000000\n",
              "mean        0.546127       2.103282  ...         1.128403e+06       0.388381\n",
              "std         0.497869       0.853751  ...         8.529364e+05       0.487383\n",
              "min         0.000000       0.000000  ...         2.079000e+04       0.000000\n",
              "25%         0.000000       1.000000  ...         6.043100e+05       0.000000\n",
              "50%         1.000000       2.000000  ...         8.946010e+05       0.000000\n",
              "75%         1.000000       3.000000  ...         1.366666e+06       1.000000\n",
              "max         1.000000       3.000000  ...         1.035201e+07       1.000000\n",
              "\n",
              "[8 rows x 7 columns]"
            ]
          },
          "metadata": {
            "tags": []
          },
          "execution_count": 214
        }
      ]
    },
    {
      "cell_type": "code",
      "metadata": {
        "colab": {
          "base_uri": "https://localhost:8080/"
        },
        "id": "es-O1xuxH5kF",
        "outputId": "d9dcce2c-0be7-4097-b0c7-15e23d00a7c9"
      },
      "source": [
        "train_data_input.corr()"
      ],
      "execution_count": null,
      "outputs": [
        {
          "output_type": "execute_result",
          "data": {
            "text/html": [
              "<div>\n",
              "<style scoped>\n",
              "    .dataframe tbody tr th:only-of-type {\n",
              "        vertical-align: middle;\n",
              "    }\n",
              "\n",
              "    .dataframe tbody tr th {\n",
              "        vertical-align: top;\n",
              "    }\n",
              "\n",
              "    .dataframe thead th {\n",
              "        text-align: right;\n",
              "    }\n",
              "</style>\n",
              "<table border=\"1\" class=\"dataframe\">\n",
              "  <thead>\n",
              "    <tr style=\"text-align: right;\">\n",
              "      <th></th>\n",
              "      <th>Gender_T</th>\n",
              "      <th>Occupation_T</th>\n",
              "      <th>Channel_Code_T</th>\n",
              "      <th>Vintage</th>\n",
              "      <th>Credit_Product_T</th>\n",
              "      <th>Avg_Account_Balance</th>\n",
              "      <th>Is_Active_T</th>\n",
              "    </tr>\n",
              "  </thead>\n",
              "  <tbody>\n",
              "    <tr>\n",
              "      <th>Gender_T</th>\n",
              "      <td>1.000000</td>\n",
              "      <td>0.031536</td>\n",
              "      <td>0.150586</td>\n",
              "      <td>0.146380</td>\n",
              "      <td>0.077313</td>\n",
              "      <td>0.022477</td>\n",
              "      <td>0.064207</td>\n",
              "    </tr>\n",
              "    <tr>\n",
              "      <th>Occupation_T</th>\n",
              "      <td>0.031536</td>\n",
              "      <td>1.000000</td>\n",
              "      <td>0.123937</td>\n",
              "      <td>0.027156</td>\n",
              "      <td>0.017734</td>\n",
              "      <td>-0.038496</td>\n",
              "      <td>0.077208</td>\n",
              "    </tr>\n",
              "    <tr>\n",
              "      <th>Channel_Code_T</th>\n",
              "      <td>0.150586</td>\n",
              "      <td>0.123937</td>\n",
              "      <td>1.000000</td>\n",
              "      <td>0.537852</td>\n",
              "      <td>0.304308</td>\n",
              "      <td>0.099911</td>\n",
              "      <td>0.249655</td>\n",
              "    </tr>\n",
              "    <tr>\n",
              "      <th>Vintage</th>\n",
              "      <td>0.146380</td>\n",
              "      <td>0.027156</td>\n",
              "      <td>0.537852</td>\n",
              "      <td>1.000000</td>\n",
              "      <td>0.235752</td>\n",
              "      <td>0.167433</td>\n",
              "      <td>0.209356</td>\n",
              "    </tr>\n",
              "    <tr>\n",
              "      <th>Credit_Product_T</th>\n",
              "      <td>0.077313</td>\n",
              "      <td>0.017734</td>\n",
              "      <td>0.304308</td>\n",
              "      <td>0.235752</td>\n",
              "      <td>1.000000</td>\n",
              "      <td>0.070495</td>\n",
              "      <td>-0.059762</td>\n",
              "    </tr>\n",
              "    <tr>\n",
              "      <th>Avg_Account_Balance</th>\n",
              "      <td>0.022477</td>\n",
              "      <td>-0.038496</td>\n",
              "      <td>0.099911</td>\n",
              "      <td>0.167433</td>\n",
              "      <td>0.070495</td>\n",
              "      <td>1.000000</td>\n",
              "      <td>0.076637</td>\n",
              "    </tr>\n",
              "    <tr>\n",
              "      <th>Is_Active_T</th>\n",
              "      <td>0.064207</td>\n",
              "      <td>0.077208</td>\n",
              "      <td>0.249655</td>\n",
              "      <td>0.209356</td>\n",
              "      <td>-0.059762</td>\n",
              "      <td>0.076637</td>\n",
              "      <td>1.000000</td>\n",
              "    </tr>\n",
              "  </tbody>\n",
              "</table>\n",
              "</div>"
            ],
            "text/plain": [
              "                     Gender_T  Occupation_T  ...  Avg_Account_Balance  Is_Active_T\n",
              "Gender_T             1.000000      0.031536  ...             0.022477     0.064207\n",
              "Occupation_T         0.031536      1.000000  ...            -0.038496     0.077208\n",
              "Channel_Code_T       0.150586      0.123937  ...             0.099911     0.249655\n",
              "Vintage              0.146380      0.027156  ...             0.167433     0.209356\n",
              "Credit_Product_T     0.077313      0.017734  ...             0.070495    -0.059762\n",
              "Avg_Account_Balance  0.022477     -0.038496  ...             1.000000     0.076637\n",
              "Is_Active_T          0.064207      0.077208  ...             0.076637     1.000000\n",
              "\n",
              "[7 rows x 7 columns]"
            ]
          },
          "metadata": {
            "tags": []
          },
          "execution_count": 215
        }
      ]
    },
    {
      "cell_type": "code",
      "metadata": {
        "colab": {
          "base_uri": "https://localhost:8080/"
        },
        "id": "ir_DS-hpH5kG",
        "outputId": "819dd3ce-ebb5-46bb-bd54-1cad5d08e5be"
      },
      "source": [
        "data_heatmap(train_data_input)"
      ],
      "execution_count": null,
      "outputs": [
        {
          "output_type": "display_data",
          "data": {
            "text/plain": [
              "<Figure size 720x720 with 0 Axes>"
            ]
          },
          "metadata": {
            "tags": []
          }
        },
        {
          "output_type": "display_data",
          "data": {
            "image/png": "[encoded data removed]",
            "text/plain": [
              "<Figure size 720x576 with 2 Axes>"
            ]
          },
          "metadata": {
            "tags": [],
            "needs_background": "light"
          }
        }
      ]
    },
    {
      "cell_type": "code",
      "metadata": {
        "colab": {
          "base_uri": "https://localhost:8080/"
        },
        "id": "wwTt-oASC7_Y",
        "outputId": "c0972ccd-37a4-41c3-c91a-c424c09374e8"
      },
      "source": [
        "target_data = train_data['Is_Lead']\n",
        "target_data"
      ],
      "execution_count": null,
      "outputs": [
        {
          "output_type": "execute_result",
          "data": {
            "text/plain": [
              "0         0\n",
              "1         0\n",
              "2         0\n",
              "3         0\n",
              "4         0\n",
              "         ..\n",
              "245720    0\n",
              "245721    0\n",
              "245722    0\n",
              "245723    0\n",
              "245724    0\n",
              "Name: Is_Lead, Length: 245725, dtype: int64"
            ]
          },
          "metadata": {
            "tags": []
          },
          "execution_count": 217
        }
      ]
    },
    {
      "cell_type": "code",
      "metadata": {
        "colab": {
          "base_uri": "https://localhost:8080/"
        },
        "id": "Rw4rzjX_Df9c",
        "outputId": "aefa2603-918e-4f8c-c7a8-80d0e262d51c"
      },
      "source": [
        "data_investigate(test_data)"
      ],
      "execution_count": null,
      "outputs": [
        {
          "output_type": "stream",
          "text": [
            "No of Rows :  105312\n",
            "No of Coloums :  10\n",
            "**************************************************\n",
            "Colums Names : \n",
            " Index(['ID', 'Gender', 'Age', 'Region_Code', 'Occupation', 'Channel_Code',\n",
            "       'Vintage', 'Credit_Product', 'Avg_Account_Balance', 'Is_Active'],\n",
            "      dtype='object')\n",
            "**************************************************\n",
            "Datatype of Columns : \n",
            " ID                     object\n",
            "Gender                 object\n",
            "Age                     int64\n",
            "Region_Code            object\n",
            "Occupation             object\n",
            "Channel_Code           object\n",
            "Vintage                 int64\n",
            "Credit_Product         object\n",
            "Avg_Account_Balance     int64\n",
            "Is_Active              object\n",
            "dtype: object\n",
            "**************************************************\n",
            "Missing Values : \n",
            "Credit_Product    12522\n",
            "dtype: int64\n",
            "**************************************************\n",
            "Missing vaules %age wise :\n",
            "\n",
            "ID                      0.000000\n",
            "Gender                  0.000000\n",
            "Age                     0.000000\n",
            "Region_Code             0.000000\n",
            "Occupation              0.000000\n",
            "Channel_Code            0.000000\n",
            "Vintage                 0.000000\n",
            "Credit_Product         11.890383\n",
            "Avg_Account_Balance     0.000000\n",
            "Is_Active               0.000000\n",
            "dtype: float64\n",
            "**************************************************\n",
            "Pictorial Representation : \n"
          ],
          "name": "stdout"
        },
        {
          "output_type": "display_data",
          "data": {
            "image/png": "[encoded data removed]",
            "text/plain": [
              "<Figure size 360x360 with 1 Axes>"
            ]
          },
          "metadata": {
            "tags": [],
            "needs_background": "light"
          }
        }
      ]
    },
    {
      "cell_type": "code",
      "metadata": {
        "id": "DWGcqoT7Df9f"
      },
      "source": [
        "test_data = test_data.fillna('Yes')\n",
        "test_data.dropna(how = 'any', inplace = True)\n",
        "test_data.drop_duplicates(inplace = True)"
      ],
      "execution_count": null,
      "outputs": []
    },
    {
      "cell_type": "code",
      "metadata": {
        "colab": {
          "base_uri": "https://localhost:8080/"
        },
        "id": "JnKSjqaFDf9g",
        "outputId": "c869af13-1e70-4276-8b3f-ee359beeedf2"
      },
      "source": [
        "data_investigate(test_data)"
      ],
      "execution_count": null,
      "outputs": [
        {
          "output_type": "stream",
          "text": [
            "No of Rows :  105312\n",
            "No of Coloums :  10\n",
            "**************************************************\n",
            "Colums Names : \n",
            " Index(['ID', 'Gender', 'Age', 'Region_Code', 'Occupation', 'Channel_Code',\n",
            "       'Vintage', 'Credit_Product', 'Avg_Account_Balance', 'Is_Active'],\n",
            "      dtype='object')\n",
            "**************************************************\n",
            "Datatype of Columns : \n",
            " ID                     object\n",
            "Gender                 object\n",
            "Age                     int64\n",
            "Region_Code            object\n",
            "Occupation             object\n",
            "Channel_Code           object\n",
            "Vintage                 int64\n",
            "Credit_Product         object\n",
            "Avg_Account_Balance     int64\n",
            "Is_Active              object\n",
            "dtype: object\n",
            "**************************************************\n",
            "Missing Values : \n",
            "Series([], dtype: int64)\n",
            "**************************************************\n",
            "Missing vaules %age wise :\n",
            "\n",
            "ID                     0.0\n",
            "Gender                 0.0\n",
            "Age                    0.0\n",
            "Region_Code            0.0\n",
            "Occupation             0.0\n",
            "Channel_Code           0.0\n",
            "Vintage                0.0\n",
            "Credit_Product         0.0\n",
            "Avg_Account_Balance    0.0\n",
            "Is_Active              0.0\n",
            "dtype: float64\n",
            "**************************************************\n",
            "Pictorial Representation : \n"
          ],
          "name": "stdout"
        },
        {
          "output_type": "display_data",
          "data": {
            "image/png": "[encoded data removed]",
            "text/plain": [
              "<Figure size 360x360 with 1 Axes>"
            ]
          },
          "metadata": {
            "tags": [],
            "needs_background": "light"
          }
        }
      ]
    },
    {
      "cell_type": "code",
      "metadata": {
        "id": "Um92En8sDf9n"
      },
      "source": [
        "test = LabelEncoder()"
      ],
      "execution_count": null,
      "outputs": []
    },
    {
      "cell_type": "code",
      "metadata": {
        "id": "k0zuw0YKDf9p"
      },
      "source": [
        "test_data['Gender_T'] = test.fit_transform(test_data['Gender'])\n",
        "test_data['Occupation_T'] = test.fit_transform(test_data['Occupation'])\n",
        "test_data['Channel_Code_T'] = test.fit_transform(test_data['Channel_Code'])\n",
        "test_data['Credit_Product_T'] = test.fit_transform(test_data['Credit_Product'])\n",
        "test_data['Is_Active_T'] = test.fit_transform(test_data['Is_Active'])"
      ],
      "execution_count": null,
      "outputs": []
    },
    {
      "cell_type": "code",
      "metadata": {
        "colab": {
          "base_uri": "https://localhost:8080/"
        },
        "id": "dKMOutIqDf9r",
        "outputId": "8fd0afa5-f806-482c-ba99-eb3a0fd6f0df"
      },
      "source": [
        "test_data"
      ],
      "execution_count": null,
      "outputs": [
        {
          "output_type": "execute_result",
          "data": {
            "text/html": [
              "<div>\n",
              "<style scoped>\n",
              "    .dataframe tbody tr th:only-of-type {\n",
              "        vertical-align: middle;\n",
              "    }\n",
              "\n",
              "    .dataframe tbody tr th {\n",
              "        vertical-align: top;\n",
              "    }\n",
              "\n",
              "    .dataframe thead th {\n",
              "        text-align: right;\n",
              "    }\n",
              "</style>\n",
              "<table border=\"1\" class=\"dataframe\">\n",
              "  <thead>\n",
              "    <tr style=\"text-align: right;\">\n",
              "      <th></th>\n",
              "      <th>ID</th>\n",
              "      <th>Gender</th>\n",
              "      <th>Age</th>\n",
              "      <th>Region_Code</th>\n",
              "      <th>Occupation</th>\n",
              "      <th>Channel_Code</th>\n",
              "      <th>Vintage</th>\n",
              "      <th>Credit_Product</th>\n",
              "      <th>Avg_Account_Balance</th>\n",
              "      <th>Is_Active</th>\n",
              "      <th>Gender_T</th>\n",
              "      <th>Occupation_T</th>\n",
              "      <th>Channel_Code_T</th>\n",
              "      <th>Credit_Product_T</th>\n",
              "      <th>Is_Active_T</th>\n",
              "    </tr>\n",
              "  </thead>\n",
              "  <tbody>\n",
              "    <tr>\n",
              "      <th>0</th>\n",
              "      <td>VBENBARO</td>\n",
              "      <td>Male</td>\n",
              "      <td>29</td>\n",
              "      <td>RG254</td>\n",
              "      <td>Other</td>\n",
              "      <td>X1</td>\n",
              "      <td>25</td>\n",
              "      <td>Yes</td>\n",
              "      <td>742366</td>\n",
              "      <td>No</td>\n",
              "      <td>1</td>\n",
              "      <td>1</td>\n",
              "      <td>0</td>\n",
              "      <td>1</td>\n",
              "      <td>0</td>\n",
              "    </tr>\n",
              "    <tr>\n",
              "      <th>1</th>\n",
              "      <td>CCMEWNKY</td>\n",
              "      <td>Male</td>\n",
              "      <td>43</td>\n",
              "      <td>RG268</td>\n",
              "      <td>Other</td>\n",
              "      <td>X2</td>\n",
              "      <td>49</td>\n",
              "      <td>Yes</td>\n",
              "      <td>925537</td>\n",
              "      <td>No</td>\n",
              "      <td>1</td>\n",
              "      <td>1</td>\n",
              "      <td>1</td>\n",
              "      <td>1</td>\n",
              "      <td>0</td>\n",
              "    </tr>\n",
              "    <tr>\n",
              "      <th>2</th>\n",
              "      <td>VK3KGA9M</td>\n",
              "      <td>Male</td>\n",
              "      <td>31</td>\n",
              "      <td>RG270</td>\n",
              "      <td>Salaried</td>\n",
              "      <td>X1</td>\n",
              "      <td>14</td>\n",
              "      <td>No</td>\n",
              "      <td>215949</td>\n",
              "      <td>No</td>\n",
              "      <td>1</td>\n",
              "      <td>2</td>\n",
              "      <td>0</td>\n",
              "      <td>0</td>\n",
              "      <td>0</td>\n",
              "    </tr>\n",
              "    <tr>\n",
              "      <th>3</th>\n",
              "      <td>TT8RPZVC</td>\n",
              "      <td>Male</td>\n",
              "      <td>29</td>\n",
              "      <td>RG272</td>\n",
              "      <td>Other</td>\n",
              "      <td>X1</td>\n",
              "      <td>33</td>\n",
              "      <td>No</td>\n",
              "      <td>868070</td>\n",
              "      <td>No</td>\n",
              "      <td>1</td>\n",
              "      <td>1</td>\n",
              "      <td>0</td>\n",
              "      <td>0</td>\n",
              "      <td>0</td>\n",
              "    </tr>\n",
              "    <tr>\n",
              "      <th>4</th>\n",
              "      <td>SHQZEYTZ</td>\n",
              "      <td>Female</td>\n",
              "      <td>29</td>\n",
              "      <td>RG270</td>\n",
              "      <td>Other</td>\n",
              "      <td>X1</td>\n",
              "      <td>19</td>\n",
              "      <td>No</td>\n",
              "      <td>657087</td>\n",
              "      <td>No</td>\n",
              "      <td>0</td>\n",
              "      <td>1</td>\n",
              "      <td>0</td>\n",
              "      <td>0</td>\n",
              "      <td>0</td>\n",
              "    </tr>\n",
              "    <tr>\n",
              "      <th>...</th>\n",
              "      <td>...</td>\n",
              "      <td>...</td>\n",
              "      <td>...</td>\n",
              "      <td>...</td>\n",
              "      <td>...</td>\n",
              "      <td>...</td>\n",
              "      <td>...</td>\n",
              "      <td>...</td>\n",
              "      <td>...</td>\n",
              "      <td>...</td>\n",
              "      <td>...</td>\n",
              "      <td>...</td>\n",
              "      <td>...</td>\n",
              "      <td>...</td>\n",
              "      <td>...</td>\n",
              "    </tr>\n",
              "    <tr>\n",
              "      <th>105307</th>\n",
              "      <td>DBENJOYI</td>\n",
              "      <td>Male</td>\n",
              "      <td>52</td>\n",
              "      <td>RG268</td>\n",
              "      <td>Salaried</td>\n",
              "      <td>X2</td>\n",
              "      <td>86</td>\n",
              "      <td>Yes</td>\n",
              "      <td>4242558</td>\n",
              "      <td>Yes</td>\n",
              "      <td>1</td>\n",
              "      <td>2</td>\n",
              "      <td>1</td>\n",
              "      <td>1</td>\n",
              "      <td>1</td>\n",
              "    </tr>\n",
              "    <tr>\n",
              "      <th>105308</th>\n",
              "      <td>CWQ72DWS</td>\n",
              "      <td>Male</td>\n",
              "      <td>55</td>\n",
              "      <td>RG277</td>\n",
              "      <td>Other</td>\n",
              "      <td>X2</td>\n",
              "      <td>86</td>\n",
              "      <td>Yes</td>\n",
              "      <td>1159153</td>\n",
              "      <td>No</td>\n",
              "      <td>1</td>\n",
              "      <td>1</td>\n",
              "      <td>1</td>\n",
              "      <td>1</td>\n",
              "      <td>0</td>\n",
              "    </tr>\n",
              "    <tr>\n",
              "      <th>105309</th>\n",
              "      <td>HDESC8GU</td>\n",
              "      <td>Male</td>\n",
              "      <td>35</td>\n",
              "      <td>RG254</td>\n",
              "      <td>Salaried</td>\n",
              "      <td>X4</td>\n",
              "      <td>15</td>\n",
              "      <td>No</td>\n",
              "      <td>1703727</td>\n",
              "      <td>No</td>\n",
              "      <td>1</td>\n",
              "      <td>2</td>\n",
              "      <td>3</td>\n",
              "      <td>0</td>\n",
              "      <td>0</td>\n",
              "    </tr>\n",
              "    <tr>\n",
              "      <th>105310</th>\n",
              "      <td>2PW4SFCA</td>\n",
              "      <td>Male</td>\n",
              "      <td>53</td>\n",
              "      <td>RG254</td>\n",
              "      <td>Other</td>\n",
              "      <td>X3</td>\n",
              "      <td>93</td>\n",
              "      <td>No</td>\n",
              "      <td>737178</td>\n",
              "      <td>Yes</td>\n",
              "      <td>1</td>\n",
              "      <td>1</td>\n",
              "      <td>2</td>\n",
              "      <td>0</td>\n",
              "      <td>1</td>\n",
              "    </tr>\n",
              "    <tr>\n",
              "      <th>105311</th>\n",
              "      <td>F2NOYPPZ</td>\n",
              "      <td>Male</td>\n",
              "      <td>27</td>\n",
              "      <td>RG256</td>\n",
              "      <td>Salaried</td>\n",
              "      <td>X1</td>\n",
              "      <td>21</td>\n",
              "      <td>No</td>\n",
              "      <td>591565</td>\n",
              "      <td>No</td>\n",
              "      <td>1</td>\n",
              "      <td>2</td>\n",
              "      <td>0</td>\n",
              "      <td>0</td>\n",
              "      <td>0</td>\n",
              "    </tr>\n",
              "  </tbody>\n",
              "</table>\n",
              "<p>105312 rows × 15 columns</p>\n",
              "</div>"
            ],
            "text/plain": [
              "              ID  Gender  Age  ... Channel_Code_T Credit_Product_T Is_Active_T\n",
              "0       VBENBARO    Male   29  ...              0                1           0\n",
              "1       CCMEWNKY    Male   43  ...              1                1           0\n",
              "2       VK3KGA9M    Male   31  ...              0                0           0\n",
              "3       TT8RPZVC    Male   29  ...              0                0           0\n",
              "4       SHQZEYTZ  Female   29  ...              0                0           0\n",
              "...          ...     ...  ...  ...            ...              ...         ...\n",
              "105307  DBENJOYI    Male   52  ...              1                1           1\n",
              "105308  CWQ72DWS    Male   55  ...              1                1           0\n",
              "105309  HDESC8GU    Male   35  ...              3                0           0\n",
              "105310  2PW4SFCA    Male   53  ...              2                0           1\n",
              "105311  F2NOYPPZ    Male   27  ...              0                0           0\n",
              "\n",
              "[105312 rows x 15 columns]"
            ]
          },
          "metadata": {
            "tags": []
          },
          "execution_count": 223
        }
      ]
    },
    {
      "cell_type": "code",
      "metadata": {
        "colab": {
          "base_uri": "https://localhost:8080/"
        },
        "id": "20x_MElQDf9s",
        "outputId": "10a9d560-f4f0-4814-a302-7e41eaf8d733"
      },
      "source": [
        "test_data_input = test_data[['Gender_T', 'Occupation_T', 'Channel_Code_T', 'Vintage', 'Credit_Product_T', 'Avg_Account_Balance', 'Is_Active_T']]\n",
        "test_data_input"
      ],
      "execution_count": null,
      "outputs": [
        {
          "output_type": "execute_result",
          "data": {
            "text/html": [
              "<div>\n",
              "<style scoped>\n",
              "    .dataframe tbody tr th:only-of-type {\n",
              "        vertical-align: middle;\n",
              "    }\n",
              "\n",
              "    .dataframe tbody tr th {\n",
              "        vertical-align: top;\n",
              "    }\n",
              "\n",
              "    .dataframe thead th {\n",
              "        text-align: right;\n",
              "    }\n",
              "</style>\n",
              "<table border=\"1\" class=\"dataframe\">\n",
              "  <thead>\n",
              "    <tr style=\"text-align: right;\">\n",
              "      <th></th>\n",
              "      <th>Gender_T</th>\n",
              "      <th>Occupation_T</th>\n",
              "      <th>Channel_Code_T</th>\n",
              "      <th>Vintage</th>\n",
              "      <th>Credit_Product_T</th>\n",
              "      <th>Avg_Account_Balance</th>\n",
              "      <th>Is_Active_T</th>\n",
              "    </tr>\n",
              "  </thead>\n",
              "  <tbody>\n",
              "    <tr>\n",
              "      <th>0</th>\n",
              "      <td>1</td>\n",
              "      <td>1</td>\n",
              "      <td>0</td>\n",
              "      <td>25</td>\n",
              "      <td>1</td>\n",
              "      <td>742366</td>\n",
              "      <td>0</td>\n",
              "    </tr>\n",
              "    <tr>\n",
              "      <th>1</th>\n",
              "      <td>1</td>\n",
              "      <td>1</td>\n",
              "      <td>1</td>\n",
              "      <td>49</td>\n",
              "      <td>1</td>\n",
              "      <td>925537</td>\n",
              "      <td>0</td>\n",
              "    </tr>\n",
              "    <tr>\n",
              "      <th>2</th>\n",
              "      <td>1</td>\n",
              "      <td>2</td>\n",
              "      <td>0</td>\n",
              "      <td>14</td>\n",
              "      <td>0</td>\n",
              "      <td>215949</td>\n",
              "      <td>0</td>\n",
              "    </tr>\n",
              "    <tr>\n",
              "      <th>3</th>\n",
              "      <td>1</td>\n",
              "      <td>1</td>\n",
              "      <td>0</td>\n",
              "      <td>33</td>\n",
              "      <td>0</td>\n",
              "      <td>868070</td>\n",
              "      <td>0</td>\n",
              "    </tr>\n",
              "    <tr>\n",
              "      <th>4</th>\n",
              "      <td>0</td>\n",
              "      <td>1</td>\n",
              "      <td>0</td>\n",
              "      <td>19</td>\n",
              "      <td>0</td>\n",
              "      <td>657087</td>\n",
              "      <td>0</td>\n",
              "    </tr>\n",
              "    <tr>\n",
              "      <th>...</th>\n",
              "      <td>...</td>\n",
              "      <td>...</td>\n",
              "      <td>...</td>\n",
              "      <td>...</td>\n",
              "      <td>...</td>\n",
              "      <td>...</td>\n",
              "      <td>...</td>\n",
              "    </tr>\n",
              "    <tr>\n",
              "      <th>105307</th>\n",
              "      <td>1</td>\n",
              "      <td>2</td>\n",
              "      <td>1</td>\n",
              "      <td>86</td>\n",
              "      <td>1</td>\n",
              "      <td>4242558</td>\n",
              "      <td>1</td>\n",
              "    </tr>\n",
              "    <tr>\n",
              "      <th>105308</th>\n",
              "      <td>1</td>\n",
              "      <td>1</td>\n",
              "      <td>1</td>\n",
              "      <td>86</td>\n",
              "      <td>1</td>\n",
              "      <td>1159153</td>\n",
              "      <td>0</td>\n",
              "    </tr>\n",
              "    <tr>\n",
              "      <th>105309</th>\n",
              "      <td>1</td>\n",
              "      <td>2</td>\n",
              "      <td>3</td>\n",
              "      <td>15</td>\n",
              "      <td>0</td>\n",
              "      <td>1703727</td>\n",
              "      <td>0</td>\n",
              "    </tr>\n",
              "    <tr>\n",
              "      <th>105310</th>\n",
              "      <td>1</td>\n",
              "      <td>1</td>\n",
              "      <td>2</td>\n",
              "      <td>93</td>\n",
              "      <td>0</td>\n",
              "      <td>737178</td>\n",
              "      <td>1</td>\n",
              "    </tr>\n",
              "    <tr>\n",
              "      <th>105311</th>\n",
              "      <td>1</td>\n",
              "      <td>2</td>\n",
              "      <td>0</td>\n",
              "      <td>21</td>\n",
              "      <td>0</td>\n",
              "      <td>591565</td>\n",
              "      <td>0</td>\n",
              "    </tr>\n",
              "  </tbody>\n",
              "</table>\n",
              "<p>105312 rows × 7 columns</p>\n",
              "</div>"
            ],
            "text/plain": [
              "        Gender_T  Occupation_T  ...  Avg_Account_Balance  Is_Active_T\n",
              "0              1             1  ...               742366            0\n",
              "1              1             1  ...               925537            0\n",
              "2              1             2  ...               215949            0\n",
              "3              1             1  ...               868070            0\n",
              "4              0             1  ...               657087            0\n",
              "...          ...           ...  ...                  ...          ...\n",
              "105307         1             2  ...              4242558            1\n",
              "105308         1             1  ...              1159153            0\n",
              "105309         1             2  ...              1703727            0\n",
              "105310         1             1  ...               737178            1\n",
              "105311         1             2  ...               591565            0\n",
              "\n",
              "[105312 rows x 7 columns]"
            ]
          },
          "metadata": {
            "tags": []
          },
          "execution_count": 224
        }
      ]
    },
    {
      "cell_type": "code",
      "metadata": {
        "colab": {
          "base_uri": "https://localhost:8080/"
        },
        "id": "cMXWB3w-Df9i",
        "outputId": "f9ae6e5b-cf4b-4c59-f626-856d50da283b"
      },
      "source": [
        "test_data_input.describe()"
      ],
      "execution_count": null,
      "outputs": [
        {
          "output_type": "execute_result",
          "data": {
            "text/html": [
              "<div>\n",
              "<style scoped>\n",
              "    .dataframe tbody tr th:only-of-type {\n",
              "        vertical-align: middle;\n",
              "    }\n",
              "\n",
              "    .dataframe tbody tr th {\n",
              "        vertical-align: top;\n",
              "    }\n",
              "\n",
              "    .dataframe thead th {\n",
              "        text-align: right;\n",
              "    }\n",
              "</style>\n",
              "<table border=\"1\" class=\"dataframe\">\n",
              "  <thead>\n",
              "    <tr style=\"text-align: right;\">\n",
              "      <th></th>\n",
              "      <th>Gender_T</th>\n",
              "      <th>Occupation_T</th>\n",
              "      <th>Channel_Code_T</th>\n",
              "      <th>Vintage</th>\n",
              "      <th>Credit_Product_T</th>\n",
              "      <th>Avg_Account_Balance</th>\n",
              "      <th>Is_Active_T</th>\n",
              "    </tr>\n",
              "  </thead>\n",
              "  <tbody>\n",
              "    <tr>\n",
              "      <th>count</th>\n",
              "      <td>105312.000000</td>\n",
              "      <td>105312.000000</td>\n",
              "      <td>105312.000000</td>\n",
              "      <td>105312.000000</td>\n",
              "      <td>105312.000000</td>\n",
              "      <td>1.053120e+05</td>\n",
              "      <td>105312.000000</td>\n",
              "    </tr>\n",
              "    <tr>\n",
              "      <th>mean</th>\n",
              "      <td>0.547943</td>\n",
              "      <td>2.103587</td>\n",
              "      <td>0.900781</td>\n",
              "      <td>46.842819</td>\n",
              "      <td>0.414995</td>\n",
              "      <td>1.134195e+06</td>\n",
              "      <td>0.394210</td>\n",
              "    </tr>\n",
              "    <tr>\n",
              "      <th>std</th>\n",
              "      <td>0.497698</td>\n",
              "      <td>0.852286</td>\n",
              "      <td>0.883744</td>\n",
              "      <td>32.273634</td>\n",
              "      <td>0.492724</td>\n",
              "      <td>8.662430e+05</td>\n",
              "      <td>0.488683</td>\n",
              "    </tr>\n",
              "    <tr>\n",
              "      <th>min</th>\n",
              "      <td>0.000000</td>\n",
              "      <td>0.000000</td>\n",
              "      <td>0.000000</td>\n",
              "      <td>7.000000</td>\n",
              "      <td>0.000000</td>\n",
              "      <td>2.259700e+04</td>\n",
              "      <td>0.000000</td>\n",
              "    </tr>\n",
              "    <tr>\n",
              "      <th>25%</th>\n",
              "      <td>0.000000</td>\n",
              "      <td>1.000000</td>\n",
              "      <td>0.000000</td>\n",
              "      <td>20.000000</td>\n",
              "      <td>0.000000</td>\n",
              "      <td>6.039822e+05</td>\n",
              "      <td>0.000000</td>\n",
              "    </tr>\n",
              "    <tr>\n",
              "      <th>50%</th>\n",
              "      <td>1.000000</td>\n",
              "      <td>2.000000</td>\n",
              "      <td>1.000000</td>\n",
              "      <td>32.000000</td>\n",
              "      <td>0.000000</td>\n",
              "      <td>8.966345e+05</td>\n",
              "      <td>0.000000</td>\n",
              "    </tr>\n",
              "    <tr>\n",
              "      <th>75%</th>\n",
              "      <td>1.000000</td>\n",
              "      <td>3.000000</td>\n",
              "      <td>2.000000</td>\n",
              "      <td>73.000000</td>\n",
              "      <td>1.000000</td>\n",
              "      <td>1.371598e+06</td>\n",
              "      <td>1.000000</td>\n",
              "    </tr>\n",
              "    <tr>\n",
              "      <th>max</th>\n",
              "      <td>1.000000</td>\n",
              "      <td>3.000000</td>\n",
              "      <td>3.000000</td>\n",
              "      <td>135.000000</td>\n",
              "      <td>1.000000</td>\n",
              "      <td>9.908858e+06</td>\n",
              "      <td>1.000000</td>\n",
              "    </tr>\n",
              "  </tbody>\n",
              "</table>\n",
              "</div>"
            ],
            "text/plain": [
              "            Gender_T   Occupation_T  ...  Avg_Account_Balance    Is_Active_T\n",
              "count  105312.000000  105312.000000  ...         1.053120e+05  105312.000000\n",
              "mean        0.547943       2.103587  ...         1.134195e+06       0.394210\n",
              "std         0.497698       0.852286  ...         8.662430e+05       0.488683\n",
              "min         0.000000       0.000000  ...         2.259700e+04       0.000000\n",
              "25%         0.000000       1.000000  ...         6.039822e+05       0.000000\n",
              "50%         1.000000       2.000000  ...         8.966345e+05       0.000000\n",
              "75%         1.000000       3.000000  ...         1.371598e+06       1.000000\n",
              "max         1.000000       3.000000  ...         9.908858e+06       1.000000\n",
              "\n",
              "[8 rows x 7 columns]"
            ]
          },
          "metadata": {
            "tags": []
          },
          "execution_count": 225
        }
      ]
    },
    {
      "cell_type": "code",
      "metadata": {
        "colab": {
          "base_uri": "https://localhost:8080/"
        },
        "id": "Bdmv89snDf9j",
        "outputId": "53826c75-1ee4-448d-ca91-264f33f11a8b"
      },
      "source": [
        "test_data_input.corr()"
      ],
      "execution_count": null,
      "outputs": [
        {
          "output_type": "execute_result",
          "data": {
            "text/html": [
              "<div>\n",
              "<style scoped>\n",
              "    .dataframe tbody tr th:only-of-type {\n",
              "        vertical-align: middle;\n",
              "    }\n",
              "\n",
              "    .dataframe tbody tr th {\n",
              "        vertical-align: top;\n",
              "    }\n",
              "\n",
              "    .dataframe thead th {\n",
              "        text-align: right;\n",
              "    }\n",
              "</style>\n",
              "<table border=\"1\" class=\"dataframe\">\n",
              "  <thead>\n",
              "    <tr style=\"text-align: right;\">\n",
              "      <th></th>\n",
              "      <th>Gender_T</th>\n",
              "      <th>Occupation_T</th>\n",
              "      <th>Channel_Code_T</th>\n",
              "      <th>Vintage</th>\n",
              "      <th>Credit_Product_T</th>\n",
              "      <th>Avg_Account_Balance</th>\n",
              "      <th>Is_Active_T</th>\n",
              "    </tr>\n",
              "  </thead>\n",
              "  <tbody>\n",
              "    <tr>\n",
              "      <th>Gender_T</th>\n",
              "      <td>1.000000</td>\n",
              "      <td>0.028172</td>\n",
              "      <td>0.150226</td>\n",
              "      <td>0.145817</td>\n",
              "      <td>0.081420</td>\n",
              "      <td>0.025798</td>\n",
              "      <td>0.069032</td>\n",
              "    </tr>\n",
              "    <tr>\n",
              "      <th>Occupation_T</th>\n",
              "      <td>0.028172</td>\n",
              "      <td>1.000000</td>\n",
              "      <td>0.124109</td>\n",
              "      <td>0.033178</td>\n",
              "      <td>0.019985</td>\n",
              "      <td>-0.038850</td>\n",
              "      <td>0.076936</td>\n",
              "    </tr>\n",
              "    <tr>\n",
              "      <th>Channel_Code_T</th>\n",
              "      <td>0.150226</td>\n",
              "      <td>0.124109</td>\n",
              "      <td>1.000000</td>\n",
              "      <td>0.534827</td>\n",
              "      <td>0.297018</td>\n",
              "      <td>0.095785</td>\n",
              "      <td>0.251515</td>\n",
              "    </tr>\n",
              "    <tr>\n",
              "      <th>Vintage</th>\n",
              "      <td>0.145817</td>\n",
              "      <td>0.033178</td>\n",
              "      <td>0.534827</td>\n",
              "      <td>1.000000</td>\n",
              "      <td>0.237484</td>\n",
              "      <td>0.164756</td>\n",
              "      <td>0.214084</td>\n",
              "    </tr>\n",
              "    <tr>\n",
              "      <th>Credit_Product_T</th>\n",
              "      <td>0.081420</td>\n",
              "      <td>0.019985</td>\n",
              "      <td>0.297018</td>\n",
              "      <td>0.237484</td>\n",
              "      <td>1.000000</td>\n",
              "      <td>0.062668</td>\n",
              "      <td>-0.061857</td>\n",
              "    </tr>\n",
              "    <tr>\n",
              "      <th>Avg_Account_Balance</th>\n",
              "      <td>0.025798</td>\n",
              "      <td>-0.038850</td>\n",
              "      <td>0.095785</td>\n",
              "      <td>0.164756</td>\n",
              "      <td>0.062668</td>\n",
              "      <td>1.000000</td>\n",
              "      <td>0.074181</td>\n",
              "    </tr>\n",
              "    <tr>\n",
              "      <th>Is_Active_T</th>\n",
              "      <td>0.069032</td>\n",
              "      <td>0.076936</td>\n",
              "      <td>0.251515</td>\n",
              "      <td>0.214084</td>\n",
              "      <td>-0.061857</td>\n",
              "      <td>0.074181</td>\n",
              "      <td>1.000000</td>\n",
              "    </tr>\n",
              "  </tbody>\n",
              "</table>\n",
              "</div>"
            ],
            "text/plain": [
              "                     Gender_T  Occupation_T  ...  Avg_Account_Balance  Is_Active_T\n",
              "Gender_T             1.000000      0.028172  ...             0.025798     0.069032\n",
              "Occupation_T         0.028172      1.000000  ...            -0.038850     0.076936\n",
              "Channel_Code_T       0.150226      0.124109  ...             0.095785     0.251515\n",
              "Vintage              0.145817      0.033178  ...             0.164756     0.214084\n",
              "Credit_Product_T     0.081420      0.019985  ...             0.062668    -0.061857\n",
              "Avg_Account_Balance  0.025798     -0.038850  ...             1.000000     0.074181\n",
              "Is_Active_T          0.069032      0.076936  ...             0.074181     1.000000\n",
              "\n",
              "[7 rows x 7 columns]"
            ]
          },
          "metadata": {
            "tags": []
          },
          "execution_count": 226
        }
      ]
    },
    {
      "cell_type": "code",
      "metadata": {
        "colab": {
          "base_uri": "https://localhost:8080/"
        },
        "id": "v0M9weHxDf9l",
        "outputId": "d9e1adec-1bea-4a51-8c8c-614300badfa6"
      },
      "source": [
        "data_heatmap(test_data_input)"
      ],
      "execution_count": null,
      "outputs": [
        {
          "output_type": "display_data",
          "data": {
            "text/plain": [
              "<Figure size 720x720 with 0 Axes>"
            ]
          },
          "metadata": {
            "tags": []
          }
        },
        {
          "output_type": "display_data",
          "data": {
            "image/png": "[encoded data removed]",
            "text/plain": [
              "<Figure size 720x576 with 2 Axes>"
            ]
          },
          "metadata": {
            "tags": [],
            "needs_background": "light"
          }
        }
      ]
    },
    {
      "cell_type": "markdown",
      "metadata": {
        "id": "2Oiwzj_iNxPL"
      },
      "source": [
        "## **TRAIN & TEST**"
      ]
    },
    {
      "cell_type": "code",
      "metadata": {
        "id": "W3W-QyJ2N94y"
      },
      "source": [
        "x_train, x_test, y_train, y_test = train_test_split(train_data_input, target_data, test_size = 0.3)"
      ],
      "execution_count": null,
      "outputs": []
    },
    {
      "cell_type": "code",
      "metadata": {
        "id": "p5AlsLSZPdZ5"
      },
      "source": [
        "model = RandomForestClassifier()"
      ],
      "execution_count": null,
      "outputs": []
    },
    {
      "cell_type": "code",
      "metadata": {
        "colab": {
          "base_uri": "https://localhost:8080/"
        },
        "id": "hy-22qghPgwN",
        "outputId": "582aae0b-51b2-4e6a-a026-a270695f5f5f"
      },
      "source": [
        "model.fit(x_train, y_train)"
      ],
      "execution_count": null,
      "outputs": [
        {
          "output_type": "execute_result",
          "data": {
            "text/plain": [
              "RandomForestClassifier(bootstrap=True, ccp_alpha=0.0, class_weight=None,\n",
              "                       criterion='gini', max_depth=None, max_features='auto',\n",
              "                       max_leaf_nodes=None, max_samples=None,\n",
              "                       min_impurity_decrease=0.0, min_impurity_split=None,\n",
              "                       min_samples_leaf=1, min_samples_split=2,\n",
              "                       min_weight_fraction_leaf=0.0, n_estimators=100,\n",
              "                       n_jobs=None, oob_score=False, random_state=None,\n",
              "                       verbose=0, warm_start=False)"
            ]
          },
          "metadata": {
            "tags": []
          },
          "execution_count": 230
        }
      ]
    },
    {
      "cell_type": "code",
      "metadata": {
        "colab": {
          "base_uri": "https://localhost:8080/"
        },
        "id": "kHfBh3SqPjCC",
        "outputId": "b97cf25b-8355-4446-e2d8-d8d826818129"
      },
      "source": [
        "model_accuracy = model.score(x_test, y_test)\n",
        "print('Model Accuracy : ', model_accuracy * 100)"
      ],
      "execution_count": null,
      "outputs": [
        {
          "output_type": "stream",
          "text": [
            "Model Accuracy :  77.01511164166148\n"
          ],
          "name": "stdout"
        }
      ]
    },
    {
      "cell_type": "code",
      "metadata": {
        "colab": {
          "base_uri": "https://localhost:8080/"
        },
        "id": "1c8z1Bd-QFmw",
        "outputId": "cfee8edd-b4a4-4dcc-a8a2-4a8de09c65b4"
      },
      "source": [
        "y_predicted = model.predict(x_test)\n",
        "\n",
        "model_prediction = model.predict(test_data_input)\n",
        "model_prediction"
      ],
      "execution_count": null,
      "outputs": [
        {
          "output_type": "execute_result",
          "data": {
            "text/plain": [
              "array([0, 0, 0, ..., 0, 0, 0])"
            ]
          },
          "metadata": {
            "tags": []
          },
          "execution_count": 232
        }
      ]
    },
    {
      "cell_type": "code",
      "metadata": {
        "colab": {
          "base_uri": "https://localhost:8080/",
          "height": 279
        },
        "id": "y192ZQZWQ4bn",
        "outputId": "a702a289-7e6d-48a7-9329-e4bde27810f0"
      },
      "source": [
        "data_confusionmatrix(y_test, y_predicted)"
      ],
      "execution_count": null,
      "outputs": [
        {
          "output_type": "display_data",
          "data": {
            "image/png": "[encoded data removed]",
            "text/plain": [
              "<Figure size 432x288 with 2 Axes>"
            ]
          },
          "metadata": {
            "tags": [],
            "needs_background": "light"
          }
        }
      ]
    },
    {
      "cell_type": "markdown",
      "metadata": {
        "id": "7CuzpTAJS-_J"
      },
      "source": [
        "## **CSV**"
      ]
    },
    {
      "cell_type": "code",
      "metadata": {
        "id": "0r4YFZzvTDTN"
      },
      "source": [
        "ID = test_data['ID']"
      ],
      "execution_count": null,
      "outputs": []
    },
    {
      "cell_type": "code",
      "metadata": {
        "colab": {
          "base_uri": "https://localhost:8080/"
        },
        "id": "b51PffRPTcWm",
        "outputId": "b585173b-893d-4605-e02e-5d6fc0125435"
      },
      "source": [
        "df = pd.DataFrame(data = {'ID': ID, 'Is_Lead': model_prediction})\n",
        "df"
      ],
      "execution_count": null,
      "outputs": [
        {
          "output_type": "execute_result",
          "data": {
            "text/html": [
              "<div>\n",
              "<style scoped>\n",
              "    .dataframe tbody tr th:only-of-type {\n",
              "        vertical-align: middle;\n",
              "    }\n",
              "\n",
              "    .dataframe tbody tr th {\n",
              "        vertical-align: top;\n",
              "    }\n",
              "\n",
              "    .dataframe thead th {\n",
              "        text-align: right;\n",
              "    }\n",
              "</style>\n",
              "<table border=\"1\" class=\"dataframe\">\n",
              "  <thead>\n",
              "    <tr style=\"text-align: right;\">\n",
              "      <th></th>\n",
              "      <th>ID</th>\n",
              "      <th>Is_Lead</th>\n",
              "    </tr>\n",
              "  </thead>\n",
              "  <tbody>\n",
              "    <tr>\n",
              "      <th>0</th>\n",
              "      <td>VBENBARO</td>\n",
              "      <td>0</td>\n",
              "    </tr>\n",
              "    <tr>\n",
              "      <th>1</th>\n",
              "      <td>CCMEWNKY</td>\n",
              "      <td>0</td>\n",
              "    </tr>\n",
              "    <tr>\n",
              "      <th>2</th>\n",
              "      <td>VK3KGA9M</td>\n",
              "      <td>0</td>\n",
              "    </tr>\n",
              "    <tr>\n",
              "      <th>3</th>\n",
              "      <td>TT8RPZVC</td>\n",
              "      <td>0</td>\n",
              "    </tr>\n",
              "    <tr>\n",
              "      <th>4</th>\n",
              "      <td>SHQZEYTZ</td>\n",
              "      <td>0</td>\n",
              "    </tr>\n",
              "    <tr>\n",
              "      <th>...</th>\n",
              "      <td>...</td>\n",
              "      <td>...</td>\n",
              "    </tr>\n",
              "    <tr>\n",
              "      <th>105307</th>\n",
              "      <td>DBENJOYI</td>\n",
              "      <td>1</td>\n",
              "    </tr>\n",
              "    <tr>\n",
              "      <th>105308</th>\n",
              "      <td>CWQ72DWS</td>\n",
              "      <td>1</td>\n",
              "    </tr>\n",
              "    <tr>\n",
              "      <th>105309</th>\n",
              "      <td>HDESC8GU</td>\n",
              "      <td>0</td>\n",
              "    </tr>\n",
              "    <tr>\n",
              "      <th>105310</th>\n",
              "      <td>2PW4SFCA</td>\n",
              "      <td>0</td>\n",
              "    </tr>\n",
              "    <tr>\n",
              "      <th>105311</th>\n",
              "      <td>F2NOYPPZ</td>\n",
              "      <td>0</td>\n",
              "    </tr>\n",
              "  </tbody>\n",
              "</table>\n",
              "<p>105312 rows × 2 columns</p>\n",
              "</div>"
            ],
            "text/plain": [
              "              ID  Is_Lead\n",
              "0       VBENBARO        0\n",
              "1       CCMEWNKY        0\n",
              "2       VK3KGA9M        0\n",
              "3       TT8RPZVC        0\n",
              "4       SHQZEYTZ        0\n",
              "...          ...      ...\n",
              "105307  DBENJOYI        1\n",
              "105308  CWQ72DWS        1\n",
              "105309  HDESC8GU        0\n",
              "105310  2PW4SFCA        0\n",
              "105311  F2NOYPPZ        0\n",
              "\n",
              "[105312 rows x 2 columns]"
            ]
          },
          "metadata": {
            "tags": []
          },
          "execution_count": 235
        }
      ]
    },
    {
      "cell_type": "code",
      "metadata": {
        "id": "BqvzFeORTrJR"
      },
      "source": [
        "df.to_csv(file_path + 'final_predicted_data.csv', index = False)"
      ],
      "execution_count": null,
      "outputs": []
    },
    {
      "cell_type": "code",
      "metadata": {
        "id": "5LO5HkceUWLq"
      },
      "source": [
        "predicted_data = pd.read_csv(file_path + 'final_predicted_data.csv')"
      ],
      "execution_count": null,
      "outputs": []
    },
    {
      "cell_type": "code",
      "metadata": {
        "colab": {
          "base_uri": "https://localhost:8080/"
        },
        "id": "RNexyR7uUn6Z",
        "outputId": "f5579dc6-79ee-4205-f0a2-0e290b0b147b"
      },
      "source": [
        "data_investigate(predicted_data)"
      ],
      "execution_count": null,
      "outputs": [
        {
          "output_type": "stream",
          "text": [
            "No of Rows :  105312\n",
            "No of Coloums :  2\n",
            "**************************************************\n",
            "Colums Names : \n",
            " Index(['ID', 'Is_Lead'], dtype='object')\n",
            "**************************************************\n",
            "Datatype of Columns : \n",
            " ID         object\n",
            "Is_Lead     int64\n",
            "dtype: object\n",
            "**************************************************\n",
            "Missing Values : \n",
            "Series([], dtype: int64)\n",
            "**************************************************\n",
            "Missing vaules %age wise :\n",
            "\n",
            "ID         0.0\n",
            "Is_Lead    0.0\n",
            "dtype: float64\n",
            "**************************************************\n",
            "Pictorial Representation : \n"
          ],
          "name": "stdout"
        },
        {
          "output_type": "display_data",
          "data": {
            "image/png": "[encoded data removed]",
            "text/plain": [
              "<Figure size 360x360 with 1 Axes>"
            ]
          },
          "metadata": {
            "tags": [],
            "needs_background": "light"
          }
        }
      ]
    },
    {
      "cell_type": "code",
      "metadata": {
        "colab": {
          "base_uri": "https://localhost:8080/"
        },
        "id": "0XGKipcLmorm",
        "outputId": "ab922684-6c41-42a2-f576-3296fa666982"
      },
      "source": [
        "predicted_data.Is_Lead.unique()"
      ],
      "execution_count": null,
      "outputs": [
        {
          "output_type": "execute_result",
          "data": {
            "text/plain": [
              "array([0, 1])"
            ]
          },
          "metadata": {
            "tags": []
          },
          "execution_count": 239
        }
      ]
    },
    {
      "cell_type": "code",
      "metadata": {
        "colab": {
          "base_uri": "https://localhost:8080/"
        },
        "id": "CrXte0neYxr8",
        "outputId": "8fb2106b-dd2a-43ca-a2b5-c03193a7803f"
      },
      "source": [
        "plt.figure(figsize = (20, 5))\n",
        "sns.lineplot(y = predicted_data['Is_Lead'][:100], x = predicted_data['ID'][:100], color = 'red')\n",
        "plt.xlabel('Is_Lead', fontsize = 20)\n",
        "plt.ylabel('ID', fontsize = 20)\n",
        "plt.show()"
      ],
      "execution_count": null,
      "outputs": [
        {
          "output_type": "display_data",
          "data": {
            "image/png": "[encoded data removed]",
            "text/plain": [
              "<Figure size 1440x360 with 1 Axes>"
            ]
          },
          "metadata": {
            "tags": [],
            "needs_background": "light"
          }
        }
      ]
    }
  ]
}